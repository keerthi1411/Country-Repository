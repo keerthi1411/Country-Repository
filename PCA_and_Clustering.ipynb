{
 "cells": [
  {
   "cell_type": "code",
   "execution_count": 155,
   "metadata": {},
   "outputs": [],
   "source": [
    "import pandas as pd\n",
    "import numpy as np\n",
    "\n",
    "#For visualising the screeplot\n",
    "import matplotlib.pyplot as plt\n",
    "import seaborn as sns\n",
    "#%matplotlib inline\n",
    "\n",
    "# To Scale our data\n",
    "from sklearn.preprocessing import scale\n",
    "\n",
    "# To perform KMeans clustering \n",
    "from sklearn.cluster import KMeans\n",
    "\n",
    "# To perform Hierarchical clustering\n",
    "from scipy.cluster.hierarchy import linkage\n",
    "from scipy.cluster.hierarchy import dendrogram\n",
    "from scipy.cluster.hierarchy import cut_tree\n",
    "\n",
    "from sklearn.manifold import TSNE\n",
    "from mpl_toolkits.mplot3d import Axes3D\n",
    "\n",
    "from scipy.linalg import svd"
   ]
  },
  {
   "cell_type": "code",
   "execution_count": 156,
   "metadata": {},
   "outputs": [
    {
     "name": "stdout",
     "output_type": "stream",
     "text": [
      "               country  child_mort  exports  health  imports  income  \\\n",
      "0          Afghanistan        90.2     10.0    7.58     44.9    1610   \n",
      "1              Albania        16.6     28.0    6.55     48.6    9930   \n",
      "2              Algeria        27.3     38.4    4.17     31.4   12900   \n",
      "3               Angola       119.0     62.3    2.85     42.9    5900   \n",
      "4  Antigua and Barbuda        10.3     45.5    6.03     58.9   19100   \n",
      "\n",
      "   inflation  life_expec  total_fer   gdpp  \n",
      "0       9.44        56.2       5.82    553  \n",
      "1       4.49        76.3       1.65   4090  \n",
      "2      16.10        76.5       2.89   4460  \n",
      "3      22.40        60.1       6.16   3530  \n",
      "4       1.44        76.8       2.13  12200  \n",
      "(167, 10)\n",
      "<class 'pandas.core.frame.DataFrame'>\n",
      "RangeIndex: 167 entries, 0 to 166\n",
      "Data columns (total 10 columns):\n",
      "country       167 non-null object\n",
      "child_mort    167 non-null float64\n",
      "exports       167 non-null float64\n",
      "health        167 non-null float64\n",
      "imports       167 non-null float64\n",
      "income        167 non-null int64\n",
      "inflation     167 non-null float64\n",
      "life_expec    167 non-null float64\n",
      "total_fer     167 non-null float64\n",
      "gdpp          167 non-null int64\n",
      "dtypes: float64(7), int64(2), object(1)\n",
      "memory usage: 13.1+ KB\n",
      "None\n"
     ]
    }
   ],
   "source": [
    "country_df = pd.read_csv('./Country-data.csv')\n",
    "print(country_df.head())\n",
    "print(country_df.shape)\n",
    "print(country_df.info())"
   ]
  },
  {
   "cell_type": "code",
   "execution_count": 157,
   "metadata": {},
   "outputs": [
    {
     "name": "stdout",
     "output_type": "stream",
     "text": [
      "(167, 10)\n",
      "<class 'pandas.core.frame.DataFrame'>\n",
      "RangeIndex: 167 entries, 0 to 166\n",
      "Data columns (total 10 columns):\n",
      "country       167 non-null object\n",
      "child_mort    167 non-null float64\n",
      "exports       167 non-null float64\n",
      "health        167 non-null float64\n",
      "imports       167 non-null float64\n",
      "income        167 non-null int64\n",
      "inflation     167 non-null float64\n",
      "life_expec    167 non-null float64\n",
      "total_fer     167 non-null float64\n",
      "gdpp          167 non-null int64\n",
      "dtypes: float64(7), int64(2), object(1)\n",
      "memory usage: 13.1+ KB\n",
      "None\n",
      "               country  child_mort  exports  health  imports  income  \\\n",
      "0          Afghanistan        90.2     10.0    7.58     44.9    1610   \n",
      "1              Albania        16.6     28.0    6.55     48.6    9930   \n",
      "2              Algeria        27.3     38.4    4.17     31.4   12900   \n",
      "3               Angola       119.0     62.3    2.85     42.9    5900   \n",
      "4  Antigua and Barbuda        10.3     45.5    6.03     58.9   19100   \n",
      "\n",
      "   inflation  life_expec  total_fer   gdpp  \n",
      "0       9.44        56.2       5.82    553  \n",
      "1       4.49        76.3       1.65   4090  \n",
      "2      16.10        76.5       2.89   4460  \n",
      "3      22.40        60.1       6.16   3530  \n",
      "4       1.44        76.8       2.13  12200  \n"
     ]
    }
   ],
   "source": [
    "# Perform EDA \n",
    "\n",
    "#2. Clean the data\n",
    "\n",
    "# Let's drop Country since it has no significance to keep later on \n",
    "#will merge this column to the dataframe\n",
    "#country_df = country_df.drop('country', axis=1)\n",
    "print(country_df.shape)\n",
    "print(country_df.info())\n",
    "print(country_df.head())"
   ]
  },
  {
   "cell_type": "code",
   "execution_count": 158,
   "metadata": {},
   "outputs": [
    {
     "name": "stdout",
     "output_type": "stream",
     "text": [
      "country       0\n",
      "child_mort    0\n",
      "exports       0\n",
      "health        0\n",
      "imports       0\n",
      "income        0\n",
      "inflation     0\n",
      "life_expec    0\n",
      "total_fer     0\n",
      "gdpp          0\n",
      "dtype: int64\n"
     ]
    }
   ],
   "source": [
    "# Missing Values \n",
    "#country_df.isnull() # REturns true and False \n",
    "# For data cleaning \n",
    "print(country_df.isna().sum())\n",
    "#There is no missing values found"
   ]
  },
  {
   "cell_type": "code",
   "execution_count": 159,
   "metadata": {},
   "outputs": [
    {
     "name": "stdout",
     "output_type": "stream",
     "text": [
      "               country  child_mort  exports    health   imports  income  \\\n",
      "0          Afghanistan        90.2    55.30   41.9174   248.297    1610   \n",
      "1              Albania        16.6  1145.20  267.8950  1987.740    9930   \n",
      "2              Algeria        27.3  1712.64  185.9820  1400.440   12900   \n",
      "3               Angola       119.0  2199.19  100.6050  1514.370    5900   \n",
      "4  Antigua and Barbuda        10.3  5551.00  735.6600  7185.800   19100   \n",
      "\n",
      "   inflation  life_expec  total_fer   gdpp  \n",
      "0       9.44        56.2       5.82    553  \n",
      "1       4.49        76.3       1.65   4090  \n",
      "2      16.10        76.5       2.89   4460  \n",
      "3      22.40        60.1       6.16   3530  \n",
      "4       1.44        76.8       2.13  12200  \n",
      "   child_mort  exports    health   imports  income  inflation  life_expec  \\\n",
      "0        90.2    55.30   41.9174   248.297    1610       9.44        56.2   \n",
      "1        16.6  1145.20  267.8950  1987.740    9930       4.49        76.3   \n",
      "2        27.3  1712.64  185.9820  1400.440   12900      16.10        76.5   \n",
      "3       119.0  2199.19  100.6050  1514.370    5900      22.40        60.1   \n",
      "4        10.3  5551.00  735.6600  7185.800   19100       1.44        76.8   \n",
      "\n",
      "   total_fer   gdpp  \n",
      "0       5.82    553  \n",
      "1       1.65   4090  \n",
      "2       2.89   4460  \n",
      "3       6.16   3530  \n",
      "4       2.13  12200  \n",
      "<class 'pandas.core.frame.DataFrame'>\n",
      "RangeIndex: 167 entries, 0 to 166\n",
      "Data columns (total 9 columns):\n",
      "child_mort    167 non-null float64\n",
      "exports       167 non-null float64\n",
      "health        167 non-null float64\n",
      "imports       167 non-null float64\n",
      "income        167 non-null int64\n",
      "inflation     167 non-null float64\n",
      "life_expec    167 non-null float64\n",
      "total_fer     167 non-null float64\n",
      "gdpp          167 non-null int64\n",
      "dtypes: float64(7), int64(2)\n",
      "memory usage: 11.8 KB\n",
      "None\n"
     ]
    }
   ],
   "source": [
    "# column format conversion % to required form \n",
    "country_df['exports']=(country_df['exports']*country_df['gdpp'])/100\n",
    "country_df['health']=(country_df['health']*country_df['gdpp'])/100\n",
    "country_df['imports']=(country_df['imports']*country_df['gdpp'])/100\n",
    "print(country_df.head())\n",
    "country_df_without_country = country_df.drop('country', axis=1)\n",
    "print(country_df_without_country.head())\n",
    "print(country_df_without_country.info())"
   ]
  },
  {
   "cell_type": "code",
   "execution_count": 160,
   "metadata": {},
   "outputs": [
    {
     "name": "stdout",
     "output_type": "stream",
     "text": [
      "[[ 1.29153238 -0.4110113  -0.56503989 ... -1.61909203  1.90288227\n",
      "  -0.67917961]\n",
      " [-0.5389489  -0.35019096 -0.43921769 ...  0.64786643 -0.85997281\n",
      "  -0.48562324]\n",
      " [-0.27283273 -0.31852577 -0.48482608 ...  0.67042323 -0.0384044\n",
      "  -0.46537561]\n",
      " ...\n",
      " [-0.37231541 -0.36146329 -0.53848844 ...  0.28695762 -0.66120626\n",
      "  -0.63775406]\n",
      " [ 0.44841668 -0.39216643 -0.55059641 ... -0.34463279  1.14094382\n",
      "  -0.63775406]\n",
      " [ 1.11495062 -0.38395214 -0.54049845 ... -2.09278484  1.6246091\n",
      "  -0.62954556]]\n"
     ]
    }
   ],
   "source": [
    "# Analysis Part \n",
    "#1. PCA\n",
    "## First let us see if we can explain the dataset using fewer variables\n",
    "from sklearn.preprocessing import StandardScaler\n",
    "standard_scaler = StandardScaler()\n",
    "country_df2 = standard_scaler.fit_transform(country_df_without_country)\n",
    "print(country_df2)"
   ]
  },
  {
   "cell_type": "code",
   "execution_count": 161,
   "metadata": {},
   "outputs": [
    {
     "name": "stdout",
     "output_type": "stream",
     "text": [
      "[[-0.31639186  0.34288671  0.358535    0.34486492  0.38004113 -0.14308531\n",
      "   0.34385651 -0.30284224  0.39998795]\n",
      " [ 0.47626735  0.39731091  0.1550529   0.37078075  0.12838448  0.22126089\n",
      "  -0.36981973  0.4597152   0.2006241 ]\n",
      " [-0.15001225 -0.03057367 -0.07570322 -0.07217386  0.14576421  0.94841868\n",
      "   0.19675173 -0.07783431  0.01033941]\n",
      " [-0.14805195  0.44942527 -0.59971228  0.46179779 -0.15480592 -0.00762798\n",
      "  -0.01839465 -0.21392805 -0.36477239]\n",
      " [ 0.1019948  -0.03853829 -0.49319984 -0.2527867   0.79407469 -0.13642345\n",
      "  -0.15404105 -0.02033568  0.08750149]\n",
      " [ 0.19658519 -0.03891112  0.18069888 -0.01217988 -0.03814681  0.10840284\n",
      "  -0.58600986 -0.75390075  0.04538167]\n",
      " [ 0.76126725 -0.01366973 -0.06461567  0.02718244 -0.02311312 -0.02207663\n",
      "   0.58120846 -0.27314534 -0.04402264]\n",
      " [ 0.00644411 -0.05526371  0.43007213  0.1311355   0.3938113  -0.00607016\n",
      "   0.002966    0.03429334 -0.79902242]\n",
      " [-0.00495137 -0.71792388 -0.13034593  0.66568664  0.07901102  0.01128137\n",
      "  -0.03159406  0.02368185  0.12846398]]\n"
     ]
    }
   ],
   "source": [
    "#Let's import the PCA module\n",
    "from sklearn.decomposition import PCA\n",
    "pca = PCA(svd_solver='randomized', random_state=42)\n",
    "\n",
    "#Performing the PCA\n",
    "pca.fit(country_df2)\n",
    "#List of PCA components.\n",
    "print(pca.components_)"
   ]
  },
  {
   "cell_type": "code",
   "execution_count": 162,
   "metadata": {},
   "outputs": [
    {
     "name": "stdout",
     "output_type": "stream",
     "text": [
      "Check that the principal components are perpendicular to each other or not\n",
      "0.0\n",
      "-0.0\n",
      "Exaplined Variance Ratio \n",
      "[5.89372984e-01 1.84451685e-01 9.91147170e-02 6.07227801e-02\n",
      " 3.02917253e-02 2.45982702e-02 9.39743701e-03 1.55641971e-03\n",
      " 4.93981394e-04]\n",
      "[0.59 0.18 0.1  0.06 0.03 0.02 0.01 0.   0.  ]\n"
     ]
    }
   ],
   "source": [
    "#Property 2: Principal Components are perpendicular to each other\n",
    "#For verifying this we would be calculating the dot product of any of the two PCs.\n",
    "#We know that dot product of any 2 perpendicular vectors is 0.\n",
    "print(\"Check that the principal components are perpendicular to each other or not\")\n",
    "print(round(np.dot(pca.components_[0],pca.components_[1])))\n",
    "print(round(np.dot(pca.components_[1],pca.components_[2])))\n",
    "\n",
    "#Let's check the variance ratios\n",
    "#Property 3). Principal Components capture maximum variance and are ordered\n",
    "print(\"Exaplined Variance Ratio \")\n",
    "##First let us see what is the variance given by the PCs\n",
    "print(pca.explained_variance_ratio_)\n",
    "print(pca.explained_variance_ratio_.round(2))"
   ]
  },
  {
   "cell_type": "code",
   "execution_count": 163,
   "metadata": {},
   "outputs": [
    {
     "data": {
      "image/png": "[encoded data removed]",
      "text/plain": [
       "<Figure size 864x576 with 1 Axes>"
      ]
     },
     "metadata": {},
     "output_type": "display_data"
    }
   ],
   "source": [
    "#Plotting the scree plot\n",
    "fig = plt.figure(figsize = (12,8))\n",
    "plt.plot(np.cumsum(pca.explained_variance_ratio_))\n",
    "plt.xlabel('number of components')\n",
    "plt.ylabel('cumulative explained variance')\n",
    "plt.show()"
   ]
  },
  {
   "cell_type": "code",
   "execution_count": 10,
   "metadata": {},
   "outputs": [],
   "source": [
    "##Around 87% of the information is being explained by 3 components"
   ]
  },
  {
   "cell_type": "code",
   "execution_count": 164,
   "metadata": {},
   "outputs": [
    {
     "name": "stdout",
     "output_type": "stream",
     "text": [
      "      Feature       PC1       PC2       PC3\n",
      "0  child_mort -0.316392  0.476267 -0.150012\n",
      "1     exports  0.342887  0.397311 -0.030574\n",
      "2      health  0.358535  0.155053 -0.075703\n",
      "3     imports  0.344865  0.370781 -0.072174\n",
      "4      income  0.380041  0.128384  0.145764\n",
      "5   inflation -0.143085  0.221261  0.948419\n",
      "6  life_expec  0.343857 -0.369820  0.196752\n",
      "7   total_fer -0.302842  0.459715 -0.077834\n",
      "8        gdpp  0.399988  0.200624  0.010339\n"
     ]
    }
   ],
   "source": [
    "#Understanding how the original variables are loaded on the principal components. It can be verified from above as well.\n",
    "colnames = list(country_df_without_country.columns)\n",
    "pcs_df = pd.DataFrame({ 'Feature':colnames,'PC1':pca.components_[0],'PC2':pca.components_[1],'PC3':pca.components_[2]})\n",
    "print(pcs_df)"
   ]
  },
  {
   "cell_type": "code",
   "execution_count": 165,
   "metadata": {},
   "outputs": [
    {
     "data": {
      "image/png": "[encoded data removed]",
      "text/plain": [
       "<Figure size 576x576 with 1 Axes>"
      ]
     },
     "metadata": {},
     "output_type": "display_data"
    }
   ],
   "source": [
    "# Let's plot them to visualise how these features are loaded\n",
    "#%matplotlib inline\n",
    "fig = plt.figure(figsize = (8,8))\n",
    "plt.scatter(pcs_df.PC1, pcs_df.PC2)\n",
    "#plt.scatter(pcs_df.PC1, pcs_df.PC2,pcs_df.PC3)\n",
    "plt.xlabel('Principal Component 1')\n",
    "plt.ylabel('Principal Component 2')\n",
    "#plt.zlabel('Principal Component 3')\n",
    "for i, txt in enumerate(pcs_df.Feature):\n",
    "    plt.annotate(txt, (pcs_df.PC1[i],pcs_df.PC2[i]))\n",
    "    #plt.annotate(txt, (pcs_df.PC1[i],pcs_df.PC2[i]),pcs_df.PC3[i])\n",
    "plt.tight_layout()\n",
    "plt.show()\n",
    "# We have only plotted 2 PCs because it represents maximum variance, though we are considering 3 PC's"
   ]
  },
  {
   "cell_type": "code",
   "execution_count": 166,
   "metadata": {},
   "outputs": [
    {
     "name": "stdout",
     "output_type": "stream",
     "text": [
      "(167, 3)\n",
      "[[-2.63744157e+00  1.46903797e+00 -5.41359106e-01]\n",
      " [-2.22769569e-02 -1.43189586e+00 -2.07009539e-02]\n",
      " [-4.57626261e-01 -6.73300938e-01  9.61867281e-01]\n",
      " [-2.72452030e+00  2.17458267e+00  6.06686548e-01]\n",
      " [ 6.49848516e-01 -1.02437392e+00 -2.50102847e-01]\n",
      " [ 3.71968554e-02 -6.80889086e-01  1.46696276e+00]\n",
      " [-3.32691520e-01 -1.27451685e+00  1.76636110e-01]\n",
      " [ 3.18036154e+00 -2.50784878e-01 -1.16877257e-01]\n",
      " [ 3.81568156e+00  2.56083499e-01 -2.70495294e-01]\n",
      " [-4.67515152e-01 -4.93492360e-01  6.03288028e-01]\n",
      " [ 1.49875246e+00 -4.28907400e-01 -5.50237572e-01]\n",
      " [ 1.47097104e+00 -3.26795693e-01  4.28411771e-01]\n",
      " [-1.01419903e+00 -7.11807758e-01 -1.16988551e-01]\n",
      " [ 8.45238116e-01 -1.00860625e+00 -4.17261615e-01]\n",
      " [-1.34473920e-02 -9.82186148e-01  8.80913018e-01]\n",
      " [ 3.96087770e+00  8.38740841e-01 -2.94077196e-01]\n",
      " [-4.02707071e-01 -9.21816189e-01 -5.04892363e-01]\n",
      " [-2.36598657e+00  1.16845951e+00 -1.23525716e+00]\n",
      " [-7.14998191e-01 -7.68107039e-01 -1.34109127e-01]\n",
      " [-1.01778054e+00 -4.26144387e-01  5.16465672e-02]\n",
      " [ 2.52812687e-01 -1.69696897e+00 -2.50836495e-01]\n",
      " [-1.13095912e+00  3.96783001e-01 -2.39304177e-01]\n",
      " [ 1.66280202e-01 -1.01868043e+00  2.76558220e-01]\n",
      " [ 2.69525065e+00  3.67356498e-01  1.64616171e+00]\n",
      " [ 2.80569006e-01 -1.32128913e+00 -3.24418990e-01]\n",
      " [-2.75387449e+00  1.66232785e+00 -8.38530674e-01]\n",
      " [-2.76406823e+00  1.62703825e+00 -2.89501749e-01]\n",
      " [-1.17929406e+00 -4.93713667e-01 -5.79293325e-01]\n",
      " [-2.44142939e+00  1.28368238e+00 -1.21856998e+00]\n",
      " [ 3.39411994e+00 -7.58855209e-02 -5.31210031e-02]\n",
      " [-5.23229456e-01 -9.78047863e-01 -5.73628045e-01]\n",
      " [-3.24153046e+00  2.17133945e+00 -1.60432462e+00]\n",
      " [-3.18889212e+00  2.35227803e+00 -1.06346393e+00]\n",
      " [ 6.92394286e-01 -1.11434707e+00  4.97610946e-01]\n",
      " [-1.28851026e-01 -1.36213540e+00  1.69283810e-01]\n",
      " [-1.38822916e-02 -1.29235162e+00 -9.14677579e-02]\n",
      " [-1.94991207e+00  6.04586951e-01 -7.68860274e-01]\n",
      " [-3.11679859e+00  2.17150462e+00  3.65532243e-01]\n",
      " [-2.04776384e+00  1.08864497e+00  7.15229292e-01]\n",
      " [ 4.31523541e-01 -1.37262753e+00  2.62061719e-01]\n",
      " [-2.57476033e+00  1.49393828e+00 -9.50191143e-01]\n",
      " [ 8.46278142e-01 -1.26420905e+00 -2.67258861e-01]\n",
      " [ 2.31379384e+00 -5.50247851e-01 -6.22654443e-02]\n",
      " [ 1.67463303e+00 -8.68266683e-01 -4.36511824e-01]\n",
      " [ 4.37600084e+00  9.19899166e-01 -1.86529955e-01]\n",
      " [-3.67788028e-01 -8.12993768e-01 -7.21568825e-02]\n",
      " [-3.02658561e-01 -9.72557952e-01  1.72477125e-01]\n",
      " [-8.36646810e-01 -5.29582755e-01  2.51857913e-01]\n",
      " [-3.36572123e-01 -1.21747835e+00 -2.87803708e-01]\n",
      " [-1.05577406e+00  2.69689134e+00  1.07364824e+00]\n",
      " [-1.94848965e+00  4.93517847e-01 -4.07068580e-02]\n",
      " [ 1.06557915e+00 -9.24334486e-01 -2.02813828e-01]\n",
      " [-7.62615708e-01 -5.81923630e-01 -3.87273966e-01]\n",
      " [ 3.20148606e+00 -4.38651220e-03 -2.77573697e-01]\n",
      " [ 2.89215450e+00 -3.07170794e-01 -2.12461353e-01]\n",
      " [-1.28280191e+00  8.50735122e-01  5.22787837e-01]\n",
      " [-2.10533591e+00  8.25136769e-01 -7.45876298e-01]\n",
      " [-3.60504965e-01 -1.16420904e+00  2.22137822e-01]\n",
      " [ 3.29930852e+00 -1.63475829e-01 -2.47480550e-01]\n",
      " [-2.00241212e+00  7.51898968e-01  3.65803951e-01]\n",
      " [ 1.93046755e+00 -1.02179786e+00 -1.97169128e-01]\n",
      " [-8.55184899e-02 -1.03950060e+00 -5.13496872e-01]\n",
      " [-8.57586524e-01 -5.35167576e-01 -2.38976872e-01]\n",
      " [-2.71436749e+00  1.61353038e+00  3.81112147e-02]\n",
      " [-2.61088220e+00  1.40183125e+00 -1.19274761e+00]\n",
      " [-9.32328908e-01 -4.32759786e-01 -3.12365847e-01]\n",
      " [-3.94495955e+00  3.02528124e+00 -1.79111113e+00]\n",
      " [ 1.05201992e+00 -9.93622931e-01 -1.78986761e-01]\n",
      " [ 3.10042218e+00  1.66620534e-01  1.95525454e-01]\n",
      " [-1.26527648e+00 -2.73471726e-01 -7.93540516e-02]\n",
      " [-8.42067437e-01 -5.64431036e-01  7.04183140e-01]\n",
      " [-7.83604357e-02 -9.71699050e-01  1.01036952e+00]\n",
      " [-1.19755535e+00  3.66926553e-01  6.77786697e-01]\n",
      " [ 4.66106546e+00  1.40673214e+00 -7.72706005e-01]\n",
      " [ 1.78332399e+00 -3.98450266e-01 -1.29869769e-01]\n",
      " [ 2.55301292e+00 -7.77100571e-01 -1.70574633e-01]\n",
      " [-2.92488125e-01 -1.07098189e+00  3.72733290e-01]\n",
      " [ 2.85862023e+00 -8.79853187e-01 -3.49318688e-01]\n",
      " [-5.21408157e-01 -6.37590059e-01  2.09087479e-01]\n",
      " [-3.56704385e-01 -2.21989984e-01  1.16239312e+00]\n",
      " [-1.73754907e+00  2.80717075e-01 -8.73885085e-01]\n",
      " [-1.66771576e+00  2.32726872e-01 -9.70327191e-01]\n",
      " [ 2.78022258e+00  4.09049216e-01  1.10198987e+00]\n",
      " [-1.09060307e+00 -5.44824469e-01  1.36468875e-01]\n",
      " [-1.63798735e+00  2.38587936e-01 -2.18411812e-01]\n",
      " [ 6.66371378e-01 -1.21036568e+00 -4.98155603e-01]\n",
      " [ 6.47380735e-01 -1.49788191e+00 -2.74720020e-01]\n",
      " [-2.43643715e+00  1.15330757e+00 -1.16893445e+00]\n",
      " [-2.25920211e+00  9.31943490e-01 -7.63506099e-01]\n",
      " [ 4.92263179e-01 -5.17710053e-01  9.54316810e-01]\n",
      " [ 7.77907024e-01 -1.00439663e+00 -2.03252447e-01]\n",
      " [ 1.26443457e+01  8.26526585e+00 -7.44422522e-01]\n",
      " [ 8.40286423e-02 -1.46663341e+00 -2.54533838e-01]\n",
      " [-1.99719466e+00  5.53843756e-01 -3.38949086e-01]\n",
      " [-2.71099852e+00  1.49439612e+00 -3.58971361e-01]\n",
      " [ 4.27177521e-01 -8.46043967e-01  2.58877823e-01]\n",
      " [ 2.31409518e-01 -1.17916241e+00 -1.65173022e-01]\n",
      " [-2.94714444e+00  2.00852988e+00 -1.12382153e+00]\n",
      " [ 2.63607678e+00  8.71657993e-02 -8.06881075e-02]\n",
      " [-2.11479497e+00  1.04608272e+00  5.93506195e-01]\n",
      " [ 3.11350366e-01 -1.18393416e+00 -3.53340370e-01]\n",
      " [-1.11560793e+00 -2.13157479e-01 -5.62427694e-01]\n",
      " [-5.11219367e-01 -1.23132389e+00  3.84380598e-01]\n",
      " [-1.26831401e+00  8.55486527e-02  2.75680072e+00]\n",
      " [ 3.55971705e-01 -1.40622589e+00 -2.37602576e-01]\n",
      " [-5.46772119e-01 -9.78645302e-01 -5.21939515e-01]\n",
      " [-2.73267720e+00  1.54232048e+00 -7.76059664e-01]\n",
      " [-1.26469403e+00 -3.58711858e-01 -2.54282073e-01]\n",
      " [-1.33597288e+00  4.12453164e-01 -7.61497045e-01]\n",
      " [-1.25257966e+00 -4.03649867e-01  5.38299132e-01]\n",
      " [ 4.49434594e+00  9.91137264e-01 -3.83121947e-01]\n",
      " [ 2.20708488e+00 -4.60402508e-01  4.02226753e-02]\n",
      " [-3.06349475e+00  2.10345193e+00 -1.29601270e+00]\n",
      " [-3.93050805e+00  3.84156564e+00  7.86649100e+00]\n",
      " [ 5.84225530e+00  1.65077719e+00  1.85810149e-01]\n",
      " [ 1.05163942e+00 -2.80233805e-02  1.19785090e+00]\n",
      " [-1.86271903e+00  5.66659012e-01 -1.04890743e-01]\n",
      " [ 3.03027657e-01 -8.77558152e-01 -2.08919158e-01]\n",
      " [-4.87602063e-01 -9.16197424e-01 -2.02154532e-02]\n",
      " [-1.79908876e-01 -1.16141959e+00  7.96190705e-02]\n",
      " [-9.28957530e-01 -5.99764354e-01 -3.54198733e-01]\n",
      " [ 8.54815190e-01 -1.28764989e+00 -1.69052042e-01]\n",
      " [ 1.75954412e+00 -1.08887390e+00 -2.14430100e-01]\n",
      " [ 5.12429969e+00  1.44099979e+00  1.17107078e+00]\n",
      " [ 2.83523953e-01 -1.24324096e+00 -8.78695362e-02]\n",
      " [ 1.41656293e-01 -7.97629457e-01  8.19296842e-01]\n",
      " [-1.74841079e+00  2.58810274e-01 -8.07940722e-01]\n",
      " [-8.48158634e-01 -4.91577438e-01 -5.34690531e-01]\n",
      " [ 9.11234513e-01  3.11483433e-02  1.30178694e+00]\n",
      " [-1.86271953e+00  4.93654358e-01 -9.17758293e-01]\n",
      " [ 1.86490508e-01 -1.43095062e+00  1.18010625e-01]\n",
      " [ 6.68231072e-01 -7.68133419e-01 -8.54486502e-01]\n",
      " [-3.22704810e+00  2.31622701e+00 -1.19591404e-01]\n",
      " [ 6.58985925e+00  2.94076381e+00 -3.37303856e-01]\n",
      " [ 1.41044469e+00 -7.89309546e-01 -3.49240050e-01]\n",
      " [ 2.04164022e+00 -7.26174703e-01 -3.97057843e-01]\n",
      " [-1.51754777e+00  1.42710226e-02 -3.57636331e-01]\n",
      " [-1.17984717e+00  3.49293570e-01 -5.33353823e-01]\n",
      " [ 1.75633945e+00 -1.02229881e+00  8.09814622e-02]\n",
      " [ 2.24348215e+00 -1.00694393e+00 -1.77758596e-01]\n",
      " [-5.44176127e-01 -9.44779352e-01  1.57161816e+00]\n",
      " [-2.25341201e-01 -9.85686904e-01 -1.73911064e-01]\n",
      " [-2.01686997e+00  8.51336401e-01  6.97648281e-01]\n",
      " [-1.97679055e-01 -5.67097461e-01  3.35800779e-02]\n",
      " [ 3.80597136e+00  3.79849383e-01 -2.38743262e-01]\n",
      " [ 6.26297409e+00  1.85000963e+00 -4.76166618e-01]\n",
      " [-1.37579894e+00 -1.63372836e-01  2.77517846e-01]\n",
      " [-2.27834344e+00  1.00591556e+00 -3.97830215e-01]\n",
      " [ 1.75003752e-01 -1.39783589e+00 -1.37076883e-02]\n",
      " [-2.00654209e+00  1.09209234e+00  1.39169881e+00]\n",
      " [-2.24527391e+00  9.01384656e-01 -1.18666619e+00]\n",
      " [-8.57094509e-01 -5.43222766e-01 -3.75027066e-01]\n",
      " [-6.11326382e-02 -1.28052084e+00 -8.88316742e-02]\n",
      " [ 3.28746959e-01 -1.06532901e+00  2.66875043e-01]\n",
      " [-8.95571886e-01 -1.91899504e-01 -6.22690182e-01]\n",
      " [-2.62250045e+00  1.46053612e+00 -4.03761119e-01]\n",
      " [-3.71584511e-01 -1.15734667e+00  6.51387502e-01]\n",
      " [ 2.68935982e+00  5.41214474e-01  9.57821458e-01]\n",
      " [ 2.60507653e+00 -3.74391523e-01 -1.46298882e-01]\n",
      " [ 3.77973688e+00  1.19298043e-01 -3.09117650e-01]\n",
      " [ 4.56137111e-01 -1.09822863e+00  4.89676824e-02]\n",
      " [-1.03056343e+00 -5.62941401e-01  7.43224331e-01]\n",
      " [-1.17501897e+00 -2.81317390e-01 -6.70432664e-01]\n",
      " [-3.11498487e-01 -6.68715525e-03  3.65671155e+00]\n",
      " [-5.92402161e-01 -1.07822432e+00  5.10558163e-01]\n",
      " [-1.80154125e+00  5.90835071e-01  1.17776563e+00]\n",
      " [-2.64661126e+00  1.56806633e+00 -1.74032291e-01]]\n"
     ]
    }
   ],
   "source": [
    "#Finally let's go ahead and do dimenstionality reduction using the two Principal Components\n",
    "from sklearn.decomposition import IncrementalPCA\n",
    "pca_final = IncrementalPCA(n_components=3)\n",
    "df_pca = pca_final.fit_transform(country_df2)\n",
    "print(df_pca.shape)\n",
    "print(df_pca)"
   ]
  },
  {
   "cell_type": "code",
   "execution_count": 168,
   "metadata": {},
   "outputs": [
    {
     "name": "stdout",
     "output_type": "stream",
     "text": [
      "        PC1       PC2       PC3\n",
      "0 -2.637442  1.469038 -0.541359\n",
      "1 -0.022277 -1.431896 -0.020701\n",
      "2 -0.457626 -0.673301  0.961867\n",
      "3 -2.724520  2.174583  0.606687\n",
      "4  0.649849 -1.024374 -0.250103\n"
     ]
    }
   ],
   "source": [
    "\n",
    "#Creating a transpose so that the each column is properly arranged\n",
    "pc = np.transpose(df_pca)\n",
    "pcs_df2 = pd.DataFrame({'PC1':pc[0],'PC2':pc[1],'PC3':pc[2]})\n",
    "print(pcs_df2.head())"
   ]
  },
  {
   "cell_type": "code",
   "execution_count": 169,
   "metadata": {},
   "outputs": [
    {
     "data": {
      "image/png": "[encoded data removed]",
      "text/plain": [
       "<Figure size 432x288 with 1 Axes>"
      ]
     },
     "metadata": {},
     "output_type": "display_data"
    }
   ],
   "source": [
    "## Let's perform Outlier Analysis\n",
    "#Let's do the outlier analysis before proceeding to clustering\n",
    "#We can reassign the outliers to the clusters later\n",
    "# Box plot for PC1\n",
    "# For PC1\n",
    "plt.boxplot(pcs_df2.PC1)\n",
    "Q1 = pcs_df2.PC1.quantile(0.05)\n",
    "Q3 = pcs_df2.PC1.quantile(0.95)\n",
    "IQR = Q3 - Q1\n",
    "pcs_df2 = pcs_df2[(pcs_df2.PC1 >= Q1) & (pcs_df2.PC1 <= Q3)]\n",
    "#print(pcs_df2)"
   ]
  },
  {
   "cell_type": "code",
   "execution_count": 173,
   "metadata": {},
   "outputs": [
    {
     "data": {
      "image/png": "[encoded data removed]",
      "text/plain": [
       "<Figure size 432x288 with 1 Axes>"
      ]
     },
     "metadata": {},
     "output_type": "display_data"
    }
   ],
   "source": [
    "# For PC2\n",
    "plt.boxplot(pcs_df2.PC2)\n",
    "Q1 = pcs_df2.PC2.quantile(0.05)\n",
    "Q3 = pcs_df2.PC2.quantile(0.95)\n",
    "IQR = Q3 - Q1\n",
    "pcs_df2 = pcs_df2[(pcs_df2.PC2 >= Q1) & (pcs_df2.PC2 <= Q3)]"
   ]
  },
  {
   "cell_type": "code",
   "execution_count": 174,
   "metadata": {},
   "outputs": [
    {
     "data": {
      "image/png": "[encoded data removed]",
      "text/plain": [
       "<Figure size 432x288 with 1 Axes>"
      ]
     },
     "metadata": {},
     "output_type": "display_data"
    }
   ],
   "source": [
    "# For PC3\n",
    "plt.boxplot(pcs_df2.PC3)\n",
    "Q1 = pcs_df2.PC3.quantile(0.05)\n",
    "Q3 = pcs_df2.PC3.quantile(0.95)\n",
    "IQR = Q3 - Q1\n",
    "pcs_df2 = pcs_df2[(pcs_df2.PC3 >= Q1) & (pcs_df2.PC3 <= Q3)]"
   ]
  },
  {
   "cell_type": "code",
   "execution_count": 175,
   "metadata": {},
   "outputs": [
    {
     "name": "stdout",
     "output_type": "stream",
     "text": [
      "(85, 3)\n"
     ]
    }
   ],
   "source": [
    "print(pcs_df2.shape)"
   ]
  },
  {
   "cell_type": "code",
   "execution_count": 227,
   "metadata": {},
   "outputs": [
    {
     "data": {
      "text/plain": [
       "<matplotlib.axes._subplots.AxesSubplot at 0x20fdca1c048>"
      ]
     },
     "execution_count": 227,
     "metadata": {},
     "output_type": "execute_result"
    },
    {
     "data": {
      "image/png": "[encoded data removed]",
      "text/plain": [
       "<Figure size 432x288 with 1 Axes>"
      ]
     },
     "metadata": {},
     "output_type": "display_data"
    }
   ],
   "source": [
    "#Visualising the points on the PCs.\n",
    "# one of the prime advatanges of PCA is that you can visualise high dimensional data\n",
    "sns.scatterplot(x='PC1',y='PC2',data=pcs_df2)\n",
    "#hue='ClusterID',legend='full',data=dat_km"
   ]
  },
  {
   "cell_type": "code",
   "execution_count": 232,
   "metadata": {},
   "outputs": [],
   "source": [
    "#sns.scatterplot(x='PC2',y='PC3',data=pcs_df2)\n",
    "#print(pca.components_)\n",
    "#print(pcs_df.Feature)"
   ]
  },
  {
   "cell_type": "code",
   "execution_count": 234,
   "metadata": {},
   "outputs": [
    {
     "name": "stderr",
     "output_type": "stream",
     "text": [
      "C:\\Users\\Admin\\Anaconda3\\lib\\site-packages\\matplotlib\\figure.py:2369: UserWarning: This figure includes Axes that are not compatible with tight_layout, so results might be incorrect.\n",
      "  warnings.warn(\"This figure includes Axes that are not compatible \"\n"
     ]
    },
    {
     "data": {
      "image/png": "[encoded data removed]",
      "text/plain": [
       "<Figure size 288x288 with 2 Axes>"
      ]
     },
     "metadata": {},
     "output_type": "display_data"
    },
    {
     "name": "stdout",
     "output_type": "stream",
     "text": [
      "(9, 4)\n"
     ]
    }
   ],
   "source": [
    "# Heat plot to see how features are mixed up with the principal components \n",
    "plt.matshow(pca.components_,cmap='viridis')\n",
    "plt.yticks([0,1,2],['PC1','PC2','PC3'], fontsize=10)\n",
    "plt.colorbar()\n",
    "plt.xticks(range(len(pcs_df.Feature)),pcs_df.Feature,rotation=65,ha='left')\n",
    "plt.tight_layout()\n",
    "plt.show()\n",
    "print(pcs_df.shape)"
   ]
  },
  {
   "cell_type": "code",
   "execution_count": null,
   "metadata": {},
   "outputs": [],
   "source": []
  },
  {
   "cell_type": "code",
   "execution_count": 180,
   "metadata": {},
   "outputs": [],
   "source": [
    "##Let's go ahead and begin with the clustering process\n",
    "# Clustering \n",
    "#Calculating the Hopkins statistic\n",
    "from sklearn.neighbors import NearestNeighbors\n",
    "from random import sample\n",
    "from numpy.random import uniform\n",
    "import numpy as np\n",
    "from math import isnan\n",
    " \n",
    "def hopkins(X):\n",
    "    d = X.shape[1]\n",
    "    #d = len(vars) # columns\n",
    "    n = len(X) # rows\n",
    "    m = int(0.1 * n) \n",
    "    nbrs = NearestNeighbors(n_neighbors=1).fit(X.values)\n",
    " \n",
    "    rand_X = sample(range(0, n, 1), m)\n",
    " \n",
    "    ujd = []\n",
    "    wjd = []\n",
    "    for j in range(0, m):\n",
    "        u_dist, _ = nbrs.kneighbors(uniform(np.amin(X,axis=0),np.amax(X,axis=0),d).reshape(1, -1), 2, return_distance=True)\n",
    "        ujd.append(u_dist[0][1])\n",
    "        w_dist, _ = nbrs.kneighbors(X.iloc[rand_X[j]].values.reshape(1, -1), 2, return_distance=True)\n",
    "        wjd.append(w_dist[0][1])\n",
    " \n",
    "    H = sum(ujd) / (sum(ujd) + sum(wjd))\n",
    "    if isnan(H):\n",
    "        print(ujd, wjd)\n",
    "        H = 0\n",
    " \n",
    "    return H"
   ]
  },
  {
   "cell_type": "code",
   "execution_count": 181,
   "metadata": {},
   "outputs": [
    {
     "data": {
      "text/plain": [
       "0.7196895505652647"
      ]
     },
     "execution_count": 181,
     "metadata": {},
     "output_type": "execute_result"
    }
   ],
   "source": [
    "#Let's check the Hopkins measure\n",
    "hopkins(pcs_df2)\n",
    "#Since the value is > 0.5 the given dataset has a good tendency to form clusters."
   ]
  },
  {
   "cell_type": "code",
   "execution_count": 182,
   "metadata": {},
   "outputs": [],
   "source": [
    "dat3_1 = pcs_df2"
   ]
  },
  {
   "cell_type": "code",
   "execution_count": 228,
   "metadata": {},
   "outputs": [],
   "source": [
    "#  K- means Clustering"
   ]
  },
  {
   "cell_type": "code",
   "execution_count": 183,
   "metadata": {},
   "outputs": [
    {
     "data": {
      "image/png": "[encoded data removed]",
      "text/plain": [
       "<Figure size 432x288 with 1 Axes>"
      ]
     },
     "metadata": {},
     "output_type": "display_data"
    }
   ],
   "source": [
    "#First we'll do the silhouette score analysis\n",
    "from sklearn.metrics import silhouette_score\n",
    "sse_ = []\n",
    "for k in range(2, 10):\n",
    "    kmeans = KMeans(n_clusters=k).fit(dat3_1)\n",
    "    sse_.append([k, silhouette_score(dat3_1, kmeans.labels_)])\n",
    "    \n",
    "plt.plot(pd.DataFrame(sse_)[0], pd.DataFrame(sse_)[1]);"
   ]
  },
  {
   "cell_type": "code",
   "execution_count": 58,
   "metadata": {},
   "outputs": [],
   "source": [
    "## From the above silhouette analysis we can see that 2 seems to be a good number of clusters for K means algorithm\n",
    "#Now let's proceed to the elbow curve method"
   ]
  },
  {
   "cell_type": "code",
   "execution_count": 184,
   "metadata": {},
   "outputs": [
    {
     "data": {
      "text/plain": [
       "[<matplotlib.lines.Line2D at 0x20fdff3ccc0>]"
      ]
     },
     "execution_count": 184,
     "metadata": {},
     "output_type": "execute_result"
    },
    {
     "data": {
      "image/png": "[encoded data removed]",
      "text/plain": [
       "<Figure size 432x288 with 1 Axes>"
      ]
     },
     "metadata": {},
     "output_type": "display_data"
    }
   ],
   "source": [
    "ssd = []\n",
    "for num_clusters in list(range(1,10)):\n",
    "    model_clus = KMeans(n_clusters = num_clusters, max_iter=50)\n",
    "    model_clus.fit(dat3_1)\n",
    "    ssd.append(model_clus.inertia_)\n",
    "\n",
    "plt.plot(ssd)"
   ]
  },
  {
   "cell_type": "code",
   "execution_count": 188,
   "metadata": {},
   "outputs": [
    {
     "data": {
      "text/plain": [
       "KMeans(algorithm='auto', copy_x=True, init='k-means++', max_iter=50,\n",
       "    n_clusters=2, n_init=10, n_jobs=1, precompute_distances='auto',\n",
       "    random_state=50, tol=0.0001, verbose=0)"
      ]
     },
     "execution_count": 188,
     "metadata": {},
     "output_type": "execute_result"
    }
   ],
   "source": [
    "#if we can see here also a distinct bend at around 2 clusters. Hence it seems a good K to choose.\n",
    "#Let's perform K means using K=2\n",
    "model_clus2 = KMeans(n_clusters = 2, max_iter=50,random_state = 50)\n",
    "model_clus2.fit(dat3_1)"
   ]
  },
  {
   "cell_type": "code",
   "execution_count": 189,
   "metadata": {},
   "outputs": [
    {
     "data": {
      "text/html": [
       "<div>\n",
       "<style scoped>\n",
       "    .dataframe tbody tr th:only-of-type {\n",
       "        vertical-align: middle;\n",
       "    }\n",
       "\n",
       "    .dataframe tbody tr th {\n",
       "        vertical-align: top;\n",
       "    }\n",
       "\n",
       "    .dataframe thead th {\n",
       "        text-align: right;\n",
       "    }\n",
       "</style>\n",
       "<table border=\"1\" class=\"dataframe\">\n",
       "  <thead>\n",
       "    <tr style=\"text-align: right;\">\n",
       "      <th></th>\n",
       "      <th>PC1</th>\n",
       "      <th>PC2</th>\n",
       "      <th>PC3</th>\n",
       "      <th>ClusterID</th>\n",
       "    </tr>\n",
       "  </thead>\n",
       "  <tbody>\n",
       "    <tr>\n",
       "      <th>0</th>\n",
       "      <td>-0.457626</td>\n",
       "      <td>-0.673301</td>\n",
       "      <td>0.961867</td>\n",
       "      <td>1</td>\n",
       "    </tr>\n",
       "    <tr>\n",
       "      <th>1</th>\n",
       "      <td>0.649849</td>\n",
       "      <td>-1.024374</td>\n",
       "      <td>-0.250103</td>\n",
       "      <td>1</td>\n",
       "    </tr>\n",
       "    <tr>\n",
       "      <th>2</th>\n",
       "      <td>3.180362</td>\n",
       "      <td>-0.250785</td>\n",
       "      <td>-0.116877</td>\n",
       "      <td>0</td>\n",
       "    </tr>\n",
       "    <tr>\n",
       "      <th>3</th>\n",
       "      <td>3.815682</td>\n",
       "      <td>0.256083</td>\n",
       "      <td>-0.270495</td>\n",
       "      <td>0</td>\n",
       "    </tr>\n",
       "    <tr>\n",
       "      <th>4</th>\n",
       "      <td>-0.467515</td>\n",
       "      <td>-0.493492</td>\n",
       "      <td>0.603288</td>\n",
       "      <td>1</td>\n",
       "    </tr>\n",
       "    <tr>\n",
       "      <th>5</th>\n",
       "      <td>1.498752</td>\n",
       "      <td>-0.428907</td>\n",
       "      <td>-0.550238</td>\n",
       "      <td>0</td>\n",
       "    </tr>\n",
       "    <tr>\n",
       "      <th>6</th>\n",
       "      <td>1.470971</td>\n",
       "      <td>-0.326796</td>\n",
       "      <td>0.428412</td>\n",
       "      <td>0</td>\n",
       "    </tr>\n",
       "    <tr>\n",
       "      <th>7</th>\n",
       "      <td>-1.014199</td>\n",
       "      <td>-0.711808</td>\n",
       "      <td>-0.116989</td>\n",
       "      <td>1</td>\n",
       "    </tr>\n",
       "    <tr>\n",
       "      <th>8</th>\n",
       "      <td>0.845238</td>\n",
       "      <td>-1.008606</td>\n",
       "      <td>-0.417262</td>\n",
       "      <td>1</td>\n",
       "    </tr>\n",
       "    <tr>\n",
       "      <th>9</th>\n",
       "      <td>-0.013447</td>\n",
       "      <td>-0.982186</td>\n",
       "      <td>0.880913</td>\n",
       "      <td>1</td>\n",
       "    </tr>\n",
       "    <tr>\n",
       "      <th>10</th>\n",
       "      <td>-0.402707</td>\n",
       "      <td>-0.921816</td>\n",
       "      <td>-0.504892</td>\n",
       "      <td>1</td>\n",
       "    </tr>\n",
       "    <tr>\n",
       "      <th>11</th>\n",
       "      <td>-0.714998</td>\n",
       "      <td>-0.768107</td>\n",
       "      <td>-0.134109</td>\n",
       "      <td>1</td>\n",
       "    </tr>\n",
       "    <tr>\n",
       "      <th>12</th>\n",
       "      <td>-1.017781</td>\n",
       "      <td>-0.426144</td>\n",
       "      <td>0.051647</td>\n",
       "      <td>1</td>\n",
       "    </tr>\n",
       "    <tr>\n",
       "      <th>13</th>\n",
       "      <td>-1.130959</td>\n",
       "      <td>0.396783</td>\n",
       "      <td>-0.239304</td>\n",
       "      <td>1</td>\n",
       "    </tr>\n",
       "    <tr>\n",
       "      <th>14</th>\n",
       "      <td>0.166280</td>\n",
       "      <td>-1.018680</td>\n",
       "      <td>0.276558</td>\n",
       "      <td>1</td>\n",
       "    </tr>\n",
       "    <tr>\n",
       "      <th>15</th>\n",
       "      <td>-1.179294</td>\n",
       "      <td>-0.493714</td>\n",
       "      <td>-0.579293</td>\n",
       "      <td>1</td>\n",
       "    </tr>\n",
       "    <tr>\n",
       "      <th>16</th>\n",
       "      <td>3.394120</td>\n",
       "      <td>-0.075886</td>\n",
       "      <td>-0.053121</td>\n",
       "      <td>0</td>\n",
       "    </tr>\n",
       "    <tr>\n",
       "      <th>17</th>\n",
       "      <td>-0.523229</td>\n",
       "      <td>-0.978048</td>\n",
       "      <td>-0.573628</td>\n",
       "      <td>1</td>\n",
       "    </tr>\n",
       "    <tr>\n",
       "      <th>18</th>\n",
       "      <td>2.313794</td>\n",
       "      <td>-0.550248</td>\n",
       "      <td>-0.062265</td>\n",
       "      <td>0</td>\n",
       "    </tr>\n",
       "    <tr>\n",
       "      <th>19</th>\n",
       "      <td>1.674633</td>\n",
       "      <td>-0.868267</td>\n",
       "      <td>-0.436512</td>\n",
       "      <td>0</td>\n",
       "    </tr>\n",
       "    <tr>\n",
       "      <th>20</th>\n",
       "      <td>-0.367788</td>\n",
       "      <td>-0.812994</td>\n",
       "      <td>-0.072157</td>\n",
       "      <td>1</td>\n",
       "    </tr>\n",
       "    <tr>\n",
       "      <th>21</th>\n",
       "      <td>-0.302659</td>\n",
       "      <td>-0.972558</td>\n",
       "      <td>0.172477</td>\n",
       "      <td>1</td>\n",
       "    </tr>\n",
       "    <tr>\n",
       "      <th>22</th>\n",
       "      <td>-0.836647</td>\n",
       "      <td>-0.529583</td>\n",
       "      <td>0.251858</td>\n",
       "      <td>1</td>\n",
       "    </tr>\n",
       "    <tr>\n",
       "      <th>23</th>\n",
       "      <td>-1.948490</td>\n",
       "      <td>0.493518</td>\n",
       "      <td>-0.040707</td>\n",
       "      <td>1</td>\n",
       "    </tr>\n",
       "    <tr>\n",
       "      <th>24</th>\n",
       "      <td>1.065579</td>\n",
       "      <td>-0.924334</td>\n",
       "      <td>-0.202814</td>\n",
       "      <td>0</td>\n",
       "    </tr>\n",
       "    <tr>\n",
       "      <th>25</th>\n",
       "      <td>-0.762616</td>\n",
       "      <td>-0.581924</td>\n",
       "      <td>-0.387274</td>\n",
       "      <td>1</td>\n",
       "    </tr>\n",
       "    <tr>\n",
       "      <th>26</th>\n",
       "      <td>3.201486</td>\n",
       "      <td>-0.004387</td>\n",
       "      <td>-0.277574</td>\n",
       "      <td>0</td>\n",
       "    </tr>\n",
       "    <tr>\n",
       "      <th>27</th>\n",
       "      <td>2.892154</td>\n",
       "      <td>-0.307171</td>\n",
       "      <td>-0.212461</td>\n",
       "      <td>0</td>\n",
       "    </tr>\n",
       "    <tr>\n",
       "      <th>28</th>\n",
       "      <td>3.299309</td>\n",
       "      <td>-0.163476</td>\n",
       "      <td>-0.247481</td>\n",
       "      <td>0</td>\n",
       "    </tr>\n",
       "    <tr>\n",
       "      <th>29</th>\n",
       "      <td>1.930468</td>\n",
       "      <td>-1.021798</td>\n",
       "      <td>-0.197169</td>\n",
       "      <td>0</td>\n",
       "    </tr>\n",
       "    <tr>\n",
       "      <th>...</th>\n",
       "      <td>...</td>\n",
       "      <td>...</td>\n",
       "      <td>...</td>\n",
       "      <td>...</td>\n",
       "    </tr>\n",
       "    <tr>\n",
       "      <th>55</th>\n",
       "      <td>-1.264694</td>\n",
       "      <td>-0.358712</td>\n",
       "      <td>-0.254282</td>\n",
       "      <td>1</td>\n",
       "    </tr>\n",
       "    <tr>\n",
       "      <th>56</th>\n",
       "      <td>-1.335973</td>\n",
       "      <td>0.412453</td>\n",
       "      <td>-0.761497</td>\n",
       "      <td>1</td>\n",
       "    </tr>\n",
       "    <tr>\n",
       "      <th>57</th>\n",
       "      <td>-1.252580</td>\n",
       "      <td>-0.403650</td>\n",
       "      <td>0.538299</td>\n",
       "      <td>1</td>\n",
       "    </tr>\n",
       "    <tr>\n",
       "      <th>58</th>\n",
       "      <td>2.207085</td>\n",
       "      <td>-0.460403</td>\n",
       "      <td>0.040223</td>\n",
       "      <td>0</td>\n",
       "    </tr>\n",
       "    <tr>\n",
       "      <th>59</th>\n",
       "      <td>1.051639</td>\n",
       "      <td>-0.028023</td>\n",
       "      <td>1.197851</td>\n",
       "      <td>0</td>\n",
       "    </tr>\n",
       "    <tr>\n",
       "      <th>60</th>\n",
       "      <td>0.303028</td>\n",
       "      <td>-0.877558</td>\n",
       "      <td>-0.208919</td>\n",
       "      <td>1</td>\n",
       "    </tr>\n",
       "    <tr>\n",
       "      <th>61</th>\n",
       "      <td>-0.487602</td>\n",
       "      <td>-0.916197</td>\n",
       "      <td>-0.020215</td>\n",
       "      <td>1</td>\n",
       "    </tr>\n",
       "    <tr>\n",
       "      <th>62</th>\n",
       "      <td>-0.928958</td>\n",
       "      <td>-0.599764</td>\n",
       "      <td>-0.354199</td>\n",
       "      <td>1</td>\n",
       "    </tr>\n",
       "    <tr>\n",
       "      <th>63</th>\n",
       "      <td>0.141656</td>\n",
       "      <td>-0.797629</td>\n",
       "      <td>0.819297</td>\n",
       "      <td>1</td>\n",
       "    </tr>\n",
       "    <tr>\n",
       "      <th>64</th>\n",
       "      <td>-0.848159</td>\n",
       "      <td>-0.491577</td>\n",
       "      <td>-0.534691</td>\n",
       "      <td>1</td>\n",
       "    </tr>\n",
       "    <tr>\n",
       "      <th>65</th>\n",
       "      <td>0.911235</td>\n",
       "      <td>0.031148</td>\n",
       "      <td>1.301787</td>\n",
       "      <td>0</td>\n",
       "    </tr>\n",
       "    <tr>\n",
       "      <th>66</th>\n",
       "      <td>1.410445</td>\n",
       "      <td>-0.789310</td>\n",
       "      <td>-0.349240</td>\n",
       "      <td>0</td>\n",
       "    </tr>\n",
       "    <tr>\n",
       "      <th>67</th>\n",
       "      <td>2.041640</td>\n",
       "      <td>-0.726175</td>\n",
       "      <td>-0.397058</td>\n",
       "      <td>0</td>\n",
       "    </tr>\n",
       "    <tr>\n",
       "      <th>68</th>\n",
       "      <td>-1.517548</td>\n",
       "      <td>0.014271</td>\n",
       "      <td>-0.357636</td>\n",
       "      <td>1</td>\n",
       "    </tr>\n",
       "    <tr>\n",
       "      <th>69</th>\n",
       "      <td>-1.179847</td>\n",
       "      <td>0.349294</td>\n",
       "      <td>-0.533354</td>\n",
       "      <td>1</td>\n",
       "    </tr>\n",
       "    <tr>\n",
       "      <th>70</th>\n",
       "      <td>1.756339</td>\n",
       "      <td>-1.022299</td>\n",
       "      <td>0.080981</td>\n",
       "      <td>0</td>\n",
       "    </tr>\n",
       "    <tr>\n",
       "      <th>71</th>\n",
       "      <td>2.243482</td>\n",
       "      <td>-1.006944</td>\n",
       "      <td>-0.177759</td>\n",
       "      <td>0</td>\n",
       "    </tr>\n",
       "    <tr>\n",
       "      <th>72</th>\n",
       "      <td>-0.225341</td>\n",
       "      <td>-0.985687</td>\n",
       "      <td>-0.173911</td>\n",
       "      <td>1</td>\n",
       "    </tr>\n",
       "    <tr>\n",
       "      <th>73</th>\n",
       "      <td>-0.197679</td>\n",
       "      <td>-0.567097</td>\n",
       "      <td>0.033580</td>\n",
       "      <td>1</td>\n",
       "    </tr>\n",
       "    <tr>\n",
       "      <th>74</th>\n",
       "      <td>3.805971</td>\n",
       "      <td>0.379849</td>\n",
       "      <td>-0.238743</td>\n",
       "      <td>0</td>\n",
       "    </tr>\n",
       "    <tr>\n",
       "      <th>75</th>\n",
       "      <td>-1.375799</td>\n",
       "      <td>-0.163373</td>\n",
       "      <td>0.277518</td>\n",
       "      <td>1</td>\n",
       "    </tr>\n",
       "    <tr>\n",
       "      <th>76</th>\n",
       "      <td>-0.857095</td>\n",
       "      <td>-0.543223</td>\n",
       "      <td>-0.375027</td>\n",
       "      <td>1</td>\n",
       "    </tr>\n",
       "    <tr>\n",
       "      <th>77</th>\n",
       "      <td>0.328747</td>\n",
       "      <td>-1.065329</td>\n",
       "      <td>0.266875</td>\n",
       "      <td>1</td>\n",
       "    </tr>\n",
       "    <tr>\n",
       "      <th>78</th>\n",
       "      <td>-0.895572</td>\n",
       "      <td>-0.191900</td>\n",
       "      <td>-0.622690</td>\n",
       "      <td>1</td>\n",
       "    </tr>\n",
       "    <tr>\n",
       "      <th>79</th>\n",
       "      <td>2.689360</td>\n",
       "      <td>0.541214</td>\n",
       "      <td>0.957821</td>\n",
       "      <td>0</td>\n",
       "    </tr>\n",
       "    <tr>\n",
       "      <th>80</th>\n",
       "      <td>2.605077</td>\n",
       "      <td>-0.374392</td>\n",
       "      <td>-0.146299</td>\n",
       "      <td>0</td>\n",
       "    </tr>\n",
       "    <tr>\n",
       "      <th>81</th>\n",
       "      <td>3.779737</td>\n",
       "      <td>0.119298</td>\n",
       "      <td>-0.309118</td>\n",
       "      <td>0</td>\n",
       "    </tr>\n",
       "    <tr>\n",
       "      <th>82</th>\n",
       "      <td>-1.030563</td>\n",
       "      <td>-0.562941</td>\n",
       "      <td>0.743224</td>\n",
       "      <td>1</td>\n",
       "    </tr>\n",
       "    <tr>\n",
       "      <th>83</th>\n",
       "      <td>-1.175019</td>\n",
       "      <td>-0.281317</td>\n",
       "      <td>-0.670433</td>\n",
       "      <td>1</td>\n",
       "    </tr>\n",
       "    <tr>\n",
       "      <th>84</th>\n",
       "      <td>-0.592402</td>\n",
       "      <td>-1.078224</td>\n",
       "      <td>0.510558</td>\n",
       "      <td>1</td>\n",
       "    </tr>\n",
       "  </tbody>\n",
       "</table>\n",
       "<p>85 rows × 4 columns</p>\n",
       "</div>"
      ],
      "text/plain": [
       "         PC1       PC2       PC3  ClusterID\n",
       "0  -0.457626 -0.673301  0.961867          1\n",
       "1   0.649849 -1.024374 -0.250103          1\n",
       "2   3.180362 -0.250785 -0.116877          0\n",
       "3   3.815682  0.256083 -0.270495          0\n",
       "4  -0.467515 -0.493492  0.603288          1\n",
       "5   1.498752 -0.428907 -0.550238          0\n",
       "6   1.470971 -0.326796  0.428412          0\n",
       "7  -1.014199 -0.711808 -0.116989          1\n",
       "8   0.845238 -1.008606 -0.417262          1\n",
       "9  -0.013447 -0.982186  0.880913          1\n",
       "10 -0.402707 -0.921816 -0.504892          1\n",
       "11 -0.714998 -0.768107 -0.134109          1\n",
       "12 -1.017781 -0.426144  0.051647          1\n",
       "13 -1.130959  0.396783 -0.239304          1\n",
       "14  0.166280 -1.018680  0.276558          1\n",
       "15 -1.179294 -0.493714 -0.579293          1\n",
       "16  3.394120 -0.075886 -0.053121          0\n",
       "17 -0.523229 -0.978048 -0.573628          1\n",
       "18  2.313794 -0.550248 -0.062265          0\n",
       "19  1.674633 -0.868267 -0.436512          0\n",
       "20 -0.367788 -0.812994 -0.072157          1\n",
       "21 -0.302659 -0.972558  0.172477          1\n",
       "22 -0.836647 -0.529583  0.251858          1\n",
       "23 -1.948490  0.493518 -0.040707          1\n",
       "24  1.065579 -0.924334 -0.202814          0\n",
       "25 -0.762616 -0.581924 -0.387274          1\n",
       "26  3.201486 -0.004387 -0.277574          0\n",
       "27  2.892154 -0.307171 -0.212461          0\n",
       "28  3.299309 -0.163476 -0.247481          0\n",
       "29  1.930468 -1.021798 -0.197169          0\n",
       "..       ...       ...       ...        ...\n",
       "55 -1.264694 -0.358712 -0.254282          1\n",
       "56 -1.335973  0.412453 -0.761497          1\n",
       "57 -1.252580 -0.403650  0.538299          1\n",
       "58  2.207085 -0.460403  0.040223          0\n",
       "59  1.051639 -0.028023  1.197851          0\n",
       "60  0.303028 -0.877558 -0.208919          1\n",
       "61 -0.487602 -0.916197 -0.020215          1\n",
       "62 -0.928958 -0.599764 -0.354199          1\n",
       "63  0.141656 -0.797629  0.819297          1\n",
       "64 -0.848159 -0.491577 -0.534691          1\n",
       "65  0.911235  0.031148  1.301787          0\n",
       "66  1.410445 -0.789310 -0.349240          0\n",
       "67  2.041640 -0.726175 -0.397058          0\n",
       "68 -1.517548  0.014271 -0.357636          1\n",
       "69 -1.179847  0.349294 -0.533354          1\n",
       "70  1.756339 -1.022299  0.080981          0\n",
       "71  2.243482 -1.006944 -0.177759          0\n",
       "72 -0.225341 -0.985687 -0.173911          1\n",
       "73 -0.197679 -0.567097  0.033580          1\n",
       "74  3.805971  0.379849 -0.238743          0\n",
       "75 -1.375799 -0.163373  0.277518          1\n",
       "76 -0.857095 -0.543223 -0.375027          1\n",
       "77  0.328747 -1.065329  0.266875          1\n",
       "78 -0.895572 -0.191900 -0.622690          1\n",
       "79  2.689360  0.541214  0.957821          0\n",
       "80  2.605077 -0.374392 -0.146299          0\n",
       "81  3.779737  0.119298 -0.309118          0\n",
       "82 -1.030563 -0.562941  0.743224          1\n",
       "83 -1.175019 -0.281317 -0.670433          1\n",
       "84 -0.592402 -1.078224  0.510558          1\n",
       "\n",
       "[85 rows x 4 columns]"
      ]
     },
     "execution_count": 189,
     "metadata": {},
     "output_type": "execute_result"
    }
   ],
   "source": [
    "dat4=pcs_df2\n",
    "dat4.index = pd.RangeIndex(len(dat4.index))\n",
    "dat_km = pd.concat([dat4, pd.Series(model_clus2.labels_)], axis=1)\n",
    "dat_km.columns = ['PC1', 'PC2','PC3','ClusterID']\n",
    "dat_km"
   ]
  },
  {
   "cell_type": "code",
   "execution_count": 190,
   "metadata": {},
   "outputs": [
    {
     "data": {
      "text/plain": [
       "1    55\n",
       "0    30\n",
       "Name: ClusterID, dtype: int64"
      ]
     },
     "execution_count": 190,
     "metadata": {},
     "output_type": "execute_result"
    }
   ],
   "source": [
    "dat_km['ClusterID'].value_counts()"
   ]
  },
  {
   "cell_type": "code",
   "execution_count": 191,
   "metadata": {},
   "outputs": [
    {
     "data": {
      "text/plain": [
       "<matplotlib.axes._subplots.AxesSubplot at 0x20fdff740f0>"
      ]
     },
     "execution_count": 191,
     "metadata": {},
     "output_type": "execute_result"
    },
    {
     "data": {
      "image/png": "[encoded data removed]",
      "text/plain": [
       "<Figure size 432x288 with 1 Axes>"
      ]
     },
     "metadata": {},
     "output_type": "display_data"
    }
   ],
   "source": [
    "sns.scatterplot(x='PC1',y='PC2',hue='ClusterID',legend='full',data=dat_km)"
   ]
  },
  {
   "cell_type": "code",
   "execution_count": 193,
   "metadata": {},
   "outputs": [],
   "source": [
    "# Here in above graph we can easily see the 2 clusters \n",
    "#sns.scatterplot(x='PC2',y='PC3',hue='ClusterID',legend='full',data=dat_km)"
   ]
  },
  {
   "cell_type": "code",
   "execution_count": 194,
   "metadata": {},
   "outputs": [
    {
     "data": {
      "image/png": "[encoded data removed]",
      "text/plain": [
       "<Figure size 1152x720 with 1 Axes>"
      ]
     },
     "metadata": {},
     "output_type": "display_data"
    }
   ],
   "source": [
    "# Let us visualize in a 3d plot\n",
    "ax = plt.figure(figsize=(16,10)).gca(projection='3d')\n",
    "ax.scatter(\n",
    "    xs=dat_km.loc[:,:]['PC1'],\n",
    "    ys=dat_km.loc[:,:]['PC2'],\n",
    "    zs=dat_km.loc[:,:]['PC3'],\n",
    "    c=dat_km.loc[:,:]['ClusterID'], \n",
    "    cmap='tab10'\n",
    ")\n",
    "ax.set_xlabel('PC1')\n",
    "ax.set_ylabel('PC2')\n",
    "ax.set_zlabel('PC3')\n",
    "plt.show()"
   ]
  },
  {
   "cell_type": "code",
   "execution_count": 195,
   "metadata": {},
   "outputs": [
    {
     "data": {
      "text/html": [
       "<div>\n",
       "<style scoped>\n",
       "    .dataframe tbody tr th:only-of-type {\n",
       "        vertical-align: middle;\n",
       "    }\n",
       "\n",
       "    .dataframe tbody tr th {\n",
       "        vertical-align: top;\n",
       "    }\n",
       "\n",
       "    .dataframe thead th {\n",
       "        text-align: right;\n",
       "    }\n",
       "</style>\n",
       "<table border=\"1\" class=\"dataframe\">\n",
       "  <thead>\n",
       "    <tr style=\"text-align: right;\">\n",
       "      <th></th>\n",
       "      <th>country</th>\n",
       "      <th>child_mort</th>\n",
       "      <th>exports</th>\n",
       "      <th>health</th>\n",
       "      <th>imports</th>\n",
       "      <th>income</th>\n",
       "      <th>inflation</th>\n",
       "      <th>life_expec</th>\n",
       "      <th>total_fer</th>\n",
       "      <th>gdpp</th>\n",
       "      <th>PC1</th>\n",
       "      <th>PC2</th>\n",
       "      <th>PC3</th>\n",
       "      <th>ClusterID</th>\n",
       "    </tr>\n",
       "  </thead>\n",
       "  <tbody>\n",
       "    <tr>\n",
       "      <th>0</th>\n",
       "      <td>Afghanistan</td>\n",
       "      <td>90.2</td>\n",
       "      <td>55.30</td>\n",
       "      <td>41.9174</td>\n",
       "      <td>248.297</td>\n",
       "      <td>1610</td>\n",
       "      <td>9.44</td>\n",
       "      <td>56.2</td>\n",
       "      <td>5.82</td>\n",
       "      <td>553</td>\n",
       "      <td>-0.457626</td>\n",
       "      <td>-0.673301</td>\n",
       "      <td>0.961867</td>\n",
       "      <td>1</td>\n",
       "    </tr>\n",
       "    <tr>\n",
       "      <th>1</th>\n",
       "      <td>Albania</td>\n",
       "      <td>16.6</td>\n",
       "      <td>1145.20</td>\n",
       "      <td>267.8950</td>\n",
       "      <td>1987.740</td>\n",
       "      <td>9930</td>\n",
       "      <td>4.49</td>\n",
       "      <td>76.3</td>\n",
       "      <td>1.65</td>\n",
       "      <td>4090</td>\n",
       "      <td>0.649849</td>\n",
       "      <td>-1.024374</td>\n",
       "      <td>-0.250103</td>\n",
       "      <td>1</td>\n",
       "    </tr>\n",
       "    <tr>\n",
       "      <th>2</th>\n",
       "      <td>Algeria</td>\n",
       "      <td>27.3</td>\n",
       "      <td>1712.64</td>\n",
       "      <td>185.9820</td>\n",
       "      <td>1400.440</td>\n",
       "      <td>12900</td>\n",
       "      <td>16.10</td>\n",
       "      <td>76.5</td>\n",
       "      <td>2.89</td>\n",
       "      <td>4460</td>\n",
       "      <td>3.180362</td>\n",
       "      <td>-0.250785</td>\n",
       "      <td>-0.116877</td>\n",
       "      <td>0</td>\n",
       "    </tr>\n",
       "    <tr>\n",
       "      <th>3</th>\n",
       "      <td>Angola</td>\n",
       "      <td>119.0</td>\n",
       "      <td>2199.19</td>\n",
       "      <td>100.6050</td>\n",
       "      <td>1514.370</td>\n",
       "      <td>5900</td>\n",
       "      <td>22.40</td>\n",
       "      <td>60.1</td>\n",
       "      <td>6.16</td>\n",
       "      <td>3530</td>\n",
       "      <td>3.815682</td>\n",
       "      <td>0.256083</td>\n",
       "      <td>-0.270495</td>\n",
       "      <td>0</td>\n",
       "    </tr>\n",
       "    <tr>\n",
       "      <th>4</th>\n",
       "      <td>Antigua and Barbuda</td>\n",
       "      <td>10.3</td>\n",
       "      <td>5551.00</td>\n",
       "      <td>735.6600</td>\n",
       "      <td>7185.800</td>\n",
       "      <td>19100</td>\n",
       "      <td>1.44</td>\n",
       "      <td>76.8</td>\n",
       "      <td>2.13</td>\n",
       "      <td>12200</td>\n",
       "      <td>-0.467515</td>\n",
       "      <td>-0.493492</td>\n",
       "      <td>0.603288</td>\n",
       "      <td>1</td>\n",
       "    </tr>\n",
       "  </tbody>\n",
       "</table>\n",
       "</div>"
      ],
      "text/plain": [
       "               country  child_mort  exports    health   imports  income  \\\n",
       "0          Afghanistan        90.2    55.30   41.9174   248.297    1610   \n",
       "1              Albania        16.6  1145.20  267.8950  1987.740    9930   \n",
       "2              Algeria        27.3  1712.64  185.9820  1400.440   12900   \n",
       "3               Angola       119.0  2199.19  100.6050  1514.370    5900   \n",
       "4  Antigua and Barbuda        10.3  5551.00  735.6600  7185.800   19100   \n",
       "\n",
       "   inflation  life_expec  total_fer   gdpp       PC1       PC2       PC3  \\\n",
       "0       9.44        56.2       5.82    553 -0.457626 -0.673301  0.961867   \n",
       "1       4.49        76.3       1.65   4090  0.649849 -1.024374 -0.250103   \n",
       "2      16.10        76.5       2.89   4460  3.180362 -0.250785 -0.116877   \n",
       "3      22.40        60.1       6.16   3530  3.815682  0.256083 -0.270495   \n",
       "4       1.44        76.8       2.13  12200 -0.467515 -0.493492  0.603288   \n",
       "\n",
       "   ClusterID  \n",
       "0          1  \n",
       "1          1  \n",
       "2          0  \n",
       "3          0  \n",
       "4          1  "
      ]
     },
     "execution_count": 195,
     "metadata": {},
     "output_type": "execute_result"
    }
   ],
   "source": [
    "# Its time to merge original dataset, since we need to do clustering on the basis of country name\n",
    "dat5=pd.merge(country_df,dat_km, left_index=True,right_index=True)\n",
    "dat5.head()"
   ]
  },
  {
   "cell_type": "code",
   "execution_count": 196,
   "metadata": {},
   "outputs": [
    {
     "data": {
      "text/html": [
       "<div>\n",
       "<style scoped>\n",
       "    .dataframe tbody tr th:only-of-type {\n",
       "        vertical-align: middle;\n",
       "    }\n",
       "\n",
       "    .dataframe tbody tr th {\n",
       "        vertical-align: top;\n",
       "    }\n",
       "\n",
       "    .dataframe thead th {\n",
       "        text-align: right;\n",
       "    }\n",
       "</style>\n",
       "<table border=\"1\" class=\"dataframe\">\n",
       "  <thead>\n",
       "    <tr style=\"text-align: right;\">\n",
       "      <th></th>\n",
       "      <th>country</th>\n",
       "      <th>child_mort</th>\n",
       "      <th>exports</th>\n",
       "      <th>health</th>\n",
       "      <th>imports</th>\n",
       "      <th>income</th>\n",
       "      <th>inflation</th>\n",
       "      <th>life_expec</th>\n",
       "      <th>total_fer</th>\n",
       "      <th>gdpp</th>\n",
       "      <th>ClusterID</th>\n",
       "    </tr>\n",
       "  </thead>\n",
       "  <tbody>\n",
       "    <tr>\n",
       "      <th>0</th>\n",
       "      <td>Afghanistan</td>\n",
       "      <td>90.2</td>\n",
       "      <td>55.30</td>\n",
       "      <td>41.9174</td>\n",
       "      <td>248.297</td>\n",
       "      <td>1610</td>\n",
       "      <td>9.44</td>\n",
       "      <td>56.2</td>\n",
       "      <td>5.82</td>\n",
       "      <td>553</td>\n",
       "      <td>1</td>\n",
       "    </tr>\n",
       "    <tr>\n",
       "      <th>1</th>\n",
       "      <td>Albania</td>\n",
       "      <td>16.6</td>\n",
       "      <td>1145.20</td>\n",
       "      <td>267.8950</td>\n",
       "      <td>1987.740</td>\n",
       "      <td>9930</td>\n",
       "      <td>4.49</td>\n",
       "      <td>76.3</td>\n",
       "      <td>1.65</td>\n",
       "      <td>4090</td>\n",
       "      <td>1</td>\n",
       "    </tr>\n",
       "    <tr>\n",
       "      <th>2</th>\n",
       "      <td>Algeria</td>\n",
       "      <td>27.3</td>\n",
       "      <td>1712.64</td>\n",
       "      <td>185.9820</td>\n",
       "      <td>1400.440</td>\n",
       "      <td>12900</td>\n",
       "      <td>16.10</td>\n",
       "      <td>76.5</td>\n",
       "      <td>2.89</td>\n",
       "      <td>4460</td>\n",
       "      <td>0</td>\n",
       "    </tr>\n",
       "    <tr>\n",
       "      <th>3</th>\n",
       "      <td>Angola</td>\n",
       "      <td>119.0</td>\n",
       "      <td>2199.19</td>\n",
       "      <td>100.6050</td>\n",
       "      <td>1514.370</td>\n",
       "      <td>5900</td>\n",
       "      <td>22.40</td>\n",
       "      <td>60.1</td>\n",
       "      <td>6.16</td>\n",
       "      <td>3530</td>\n",
       "      <td>0</td>\n",
       "    </tr>\n",
       "    <tr>\n",
       "      <th>4</th>\n",
       "      <td>Antigua and Barbuda</td>\n",
       "      <td>10.3</td>\n",
       "      <td>5551.00</td>\n",
       "      <td>735.6600</td>\n",
       "      <td>7185.800</td>\n",
       "      <td>19100</td>\n",
       "      <td>1.44</td>\n",
       "      <td>76.8</td>\n",
       "      <td>2.13</td>\n",
       "      <td>12200</td>\n",
       "      <td>1</td>\n",
       "    </tr>\n",
       "  </tbody>\n",
       "</table>\n",
       "</div>"
      ],
      "text/plain": [
       "               country  child_mort  exports    health   imports  income  \\\n",
       "0          Afghanistan        90.2    55.30   41.9174   248.297    1610   \n",
       "1              Albania        16.6  1145.20  267.8950  1987.740    9930   \n",
       "2              Algeria        27.3  1712.64  185.9820  1400.440   12900   \n",
       "3               Angola       119.0  2199.19  100.6050  1514.370    5900   \n",
       "4  Antigua and Barbuda        10.3  5551.00  735.6600  7185.800   19100   \n",
       "\n",
       "   inflation  life_expec  total_fer   gdpp  ClusterID  \n",
       "0       9.44        56.2       5.82    553          1  \n",
       "1       4.49        76.3       1.65   4090          1  \n",
       "2      16.10        76.5       2.89   4460          0  \n",
       "3      22.40        60.1       6.16   3530          0  \n",
       "4       1.44        76.8       2.13  12200          1  "
      ]
     },
     "execution_count": 196,
     "metadata": {},
     "output_type": "execute_result"
    }
   ],
   "source": [
    "# Now, let us drop the PC1, PC2 and PC3 \n",
    "dat6=dat5.drop(['PC1','PC2','PC3'],axis=1)\n",
    "dat6.head()"
   ]
  },
  {
   "cell_type": "code",
   "execution_count": 81,
   "metadata": {},
   "outputs": [],
   "source": [
    "# We have performed the clustering using PCAs and now we allocated the cluster for each data points"
   ]
  },
  {
   "cell_type": "code",
   "execution_count": 226,
   "metadata": {},
   "outputs": [
    {
     "data": {
      "text/plain": [
       "<matplotlib.axes._subplots.AxesSubplot at 0x20fdc9b9320>"
      ]
     },
     "execution_count": 226,
     "metadata": {},
     "output_type": "execute_result"
    },
    {
     "data": {
      "image/png": "[encoded data removed]",
      "text/plain": [
       "<Figure size 432x288 with 1 Axes>"
      ]
     },
     "metadata": {},
     "output_type": "display_data"
    }
   ],
   "source": [
    "#plotting a scatter plot of all the countries and differentiating the clusters\n",
    "sns.scatterplot(x='PC1',y='PC2',hue='ClusterID',legend='full',data=dat5)"
   ]
  },
  {
   "cell_type": "code",
   "execution_count": 215,
   "metadata": {},
   "outputs": [
    {
     "data": {
      "text/plain": [
       "1    55\n",
       "0    30\n",
       "Name: ClusterID, dtype: int64"
      ]
     },
     "execution_count": 215,
     "metadata": {},
     "output_type": "execute_result"
    }
   ],
   "source": [
    "# sort the countries based on ClusterID\n",
    "dat6_cluster_sort = dat6.sort_values('ClusterID')\n",
    "dat6_cluster_sort.head()\n",
    "dat6_cluster_sort['ClusterID'].value_counts()\n",
    "# 55 countries are present in the cluster 1\n",
    "# 30 countries are present in the cluster 0 "
   ]
  },
  {
   "cell_type": "code",
   "execution_count": 202,
   "metadata": {},
   "outputs": [],
   "source": [
    "#Analysis of the clusters\n",
    "#clu_country = \tpd.DataFrame(dat6.groupby([\"ClusterID\"]).country.mean())\n",
    "clu_child_mort = \tpd.DataFrame(dat6.groupby([\"ClusterID\"]).child_mort.mean())\n",
    "clu_exports = \tpd.DataFrame(dat6.groupby([\"ClusterID\"]).exports.mean())\n",
    "clu_health = \tpd.DataFrame(dat6.groupby([\"ClusterID\"]).health.mean())\n",
    "clu_imports = \tpd.DataFrame(dat6.groupby([\"ClusterID\"]).imports.mean())\n",
    "clu_income = \tpd.DataFrame(dat6.groupby([\"ClusterID\"]).income.mean())\n",
    "clu_inflation = \tpd.DataFrame(dat6.groupby([\"ClusterID\"]).inflation.mean())\n",
    "clu_life_expec = \tpd.DataFrame(dat6.groupby([\"ClusterID\"]).life_expec.mean())\n",
    "clu_total_fer = \tpd.DataFrame(dat6.groupby([\"ClusterID\"]).total_fer.mean())\n",
    "clu_gdpp = \tpd.DataFrame(dat6.groupby([\"ClusterID\"]).gdpp.mean())"
   ]
  },
  {
   "cell_type": "code",
   "execution_count": 203,
   "metadata": {},
   "outputs": [
    {
     "data": {
      "text/html": [
       "<div>\n",
       "<style scoped>\n",
       "    .dataframe tbody tr th:only-of-type {\n",
       "        vertical-align: middle;\n",
       "    }\n",
       "\n",
       "    .dataframe tbody tr th {\n",
       "        vertical-align: top;\n",
       "    }\n",
       "\n",
       "    .dataframe thead th {\n",
       "        text-align: right;\n",
       "    }\n",
       "</style>\n",
       "<table border=\"1\" class=\"dataframe\">\n",
       "  <thead>\n",
       "    <tr style=\"text-align: right;\">\n",
       "      <th></th>\n",
       "      <th>0</th>\n",
       "      <th>child_mort</th>\n",
       "      <th>exports</th>\n",
       "      <th>health</th>\n",
       "      <th>imports</th>\n",
       "      <th>income</th>\n",
       "      <th>inflation</th>\n",
       "      <th>life_expec</th>\n",
       "      <th>total_fer</th>\n",
       "      <th>gdpp</th>\n",
       "    </tr>\n",
       "  </thead>\n",
       "  <tbody>\n",
       "    <tr>\n",
       "      <th>0</th>\n",
       "      <td>0</td>\n",
       "      <td>43.040000</td>\n",
       "      <td>3496.157873</td>\n",
       "      <td>723.518917</td>\n",
       "      <td>3517.132267</td>\n",
       "      <td>12522.133333</td>\n",
       "      <td>7.695933</td>\n",
       "      <td>69.313333</td>\n",
       "      <td>2.905667</td>\n",
       "      <td>8834.533333</td>\n",
       "    </tr>\n",
       "    <tr>\n",
       "      <th>1</th>\n",
       "      <td>1</td>\n",
       "      <td>39.276364</td>\n",
       "      <td>7016.515415</td>\n",
       "      <td>1225.569738</td>\n",
       "      <td>6231.219255</td>\n",
       "      <td>18506.672727</td>\n",
       "      <td>6.475000</td>\n",
       "      <td>70.972727</td>\n",
       "      <td>2.988909</td>\n",
       "      <td>14684.345455</td>\n",
       "    </tr>\n",
       "  </tbody>\n",
       "</table>\n",
       "</div>"
      ],
      "text/plain": [
       "   0  child_mort      exports       health      imports        income  \\\n",
       "0  0   43.040000  3496.157873   723.518917  3517.132267  12522.133333   \n",
       "1  1   39.276364  7016.515415  1225.569738  6231.219255  18506.672727   \n",
       "\n",
       "   inflation  life_expec  total_fer          gdpp  \n",
       "0   7.695933   69.313333   2.905667   8834.533333  \n",
       "1   6.475000   70.972727   2.988909  14684.345455  "
      ]
     },
     "execution_count": 203,
     "metadata": {},
     "output_type": "execute_result"
    }
   ],
   "source": [
    "df = pd.concat([pd.Series([0,1]),clu_child_mort,clu_exports,clu_health,clu_imports,clu_income,clu_inflation,clu_life_expec,clu_total_fer,clu_gdpp], axis=1)\n",
    "df"
   ]
  },
  {
   "cell_type": "code",
   "execution_count": 204,
   "metadata": {},
   "outputs": [
    {
     "data": {
      "text/html": [
       "<div>\n",
       "<style scoped>\n",
       "    .dataframe tbody tr th:only-of-type {\n",
       "        vertical-align: middle;\n",
       "    }\n",
       "\n",
       "    .dataframe tbody tr th {\n",
       "        vertical-align: top;\n",
       "    }\n",
       "\n",
       "    .dataframe thead th {\n",
       "        text-align: right;\n",
       "    }\n",
       "</style>\n",
       "<table border=\"1\" class=\"dataframe\">\n",
       "  <thead>\n",
       "    <tr style=\"text-align: right;\">\n",
       "      <th></th>\n",
       "      <th>ClusterID</th>\n",
       "      <th>child_mort</th>\n",
       "      <th>exports</th>\n",
       "      <th>health</th>\n",
       "      <th>imports</th>\n",
       "      <th>income</th>\n",
       "      <th>inflation</th>\n",
       "      <th>life_expec</th>\n",
       "      <th>total_fer</th>\n",
       "      <th>gdpp</th>\n",
       "    </tr>\n",
       "  </thead>\n",
       "  <tbody>\n",
       "    <tr>\n",
       "      <th>0</th>\n",
       "      <td>0</td>\n",
       "      <td>43.040000</td>\n",
       "      <td>3496.157873</td>\n",
       "      <td>723.518917</td>\n",
       "      <td>3517.132267</td>\n",
       "      <td>12522.133333</td>\n",
       "      <td>7.695933</td>\n",
       "      <td>69.313333</td>\n",
       "      <td>2.905667</td>\n",
       "      <td>8834.533333</td>\n",
       "    </tr>\n",
       "    <tr>\n",
       "      <th>1</th>\n",
       "      <td>1</td>\n",
       "      <td>39.276364</td>\n",
       "      <td>7016.515415</td>\n",
       "      <td>1225.569738</td>\n",
       "      <td>6231.219255</td>\n",
       "      <td>18506.672727</td>\n",
       "      <td>6.475000</td>\n",
       "      <td>70.972727</td>\n",
       "      <td>2.988909</td>\n",
       "      <td>14684.345455</td>\n",
       "    </tr>\n",
       "  </tbody>\n",
       "</table>\n",
       "</div>"
      ],
      "text/plain": [
       "   ClusterID  child_mort      exports       health      imports        income  \\\n",
       "0          0   43.040000  3496.157873   723.518917  3517.132267  12522.133333   \n",
       "1          1   39.276364  7016.515415  1225.569738  6231.219255  18506.672727   \n",
       "\n",
       "   inflation  life_expec  total_fer          gdpp  \n",
       "0   7.695933   69.313333   2.905667   8834.533333  \n",
       "1   6.475000   70.972727   2.988909  14684.345455  "
      ]
     },
     "execution_count": 204,
     "metadata": {},
     "output_type": "execute_result"
    }
   ],
   "source": [
    "df.columns = [\"ClusterID\",\"child_mort\",\"exports\",\"health\",\"imports\",\"income\",\"inflation\",\"life_expec\",\"total_fer\",\"gdpp\"]\n",
    "df"
   ]
  },
  {
   "cell_type": "code",
   "execution_count": 216,
   "metadata": {},
   "outputs": [],
   "source": [
    "# By looking at the mean values we can clearly say that the cluster 1 are having more income and gdpp and \n",
    "# the most healthiest countries, and less child_mort.\n",
    "#sns.scatterplot(x='country',y='ClusterID',hue='ClusterID',data=dat6)"
   ]
  },
  {
   "cell_type": "code",
   "execution_count": null,
   "metadata": {},
   "outputs": [],
   "source": [
    "#Lets Analyse clusters by comparing how these three variables - [gdpp, child_mort and income] vary for each cluster of countries"
   ]
  },
  {
   "cell_type": "code",
   "execution_count": 217,
   "metadata": {},
   "outputs": [
    {
     "data": {
      "text/plain": [
       "<matplotlib.axes._subplots.AxesSubplot at 0x20fdee0a320>"
      ]
     },
     "execution_count": 217,
     "metadata": {},
     "output_type": "execute_result"
    },
    {
     "data": {
      "image/png": "[encoded data removed]",
      "text/plain": [
       "<Figure size 432x288 with 1 Axes>"
      ]
     },
     "metadata": {},
     "output_type": "display_data"
    }
   ],
   "source": [
    "# Let us analyze income variable using a box plot\n",
    "sns.boxplot(x='ClusterID',y='income', data=dat6)"
   ]
  },
  {
   "cell_type": "code",
   "execution_count": null,
   "metadata": {},
   "outputs": [],
   "source": [
    "# Here we can see that cluster 1 contains high income of countries"
   ]
  },
  {
   "cell_type": "code",
   "execution_count": 218,
   "metadata": {},
   "outputs": [],
   "source": [
    "#sns.scatterplot(x='income',y='child_mort',hue='ClusterID',legend='full',data=dat6)"
   ]
  },
  {
   "cell_type": "code",
   "execution_count": 219,
   "metadata": {},
   "outputs": [
    {
     "data": {
      "text/plain": [
       "<matplotlib.axes._subplots.AxesSubplot at 0x20fdfea3e80>"
      ]
     },
     "execution_count": 219,
     "metadata": {},
     "output_type": "execute_result"
    },
    {
     "data": {
      "image/png": "[encoded data removed]",
      "text/plain": [
       "<Figure size 432x288 with 1 Axes>"
      ]
     },
     "metadata": {},
     "output_type": "display_data"
    }
   ],
   "source": [
    "# Let us analyze gdpp variable using a box plot\n",
    "sns.boxplot(x='ClusterID',y='gdpp', data=dat6)"
   ]
  },
  {
   "cell_type": "code",
   "execution_count": null,
   "metadata": {},
   "outputs": [],
   "source": [
    "# once again we can see that cluster 1 countries having higher gdpp as compared to cluster 0"
   ]
  },
  {
   "cell_type": "code",
   "execution_count": 220,
   "metadata": {},
   "outputs": [],
   "source": [
    "#sns.scatterplot(x='child_mort',y='gdpp',data=dat6)\n",
    "#sns.scatterplot(x='income',y='gdpp',hue='ClusterID',legend='full',data=dat6)"
   ]
  },
  {
   "cell_type": "code",
   "execution_count": 221,
   "metadata": {},
   "outputs": [],
   "source": [
    "#sns.scatterplot(x='child_mort',y='gdpp',hue='ClusterID',legend='full',data=dat6)"
   ]
  },
  {
   "cell_type": "code",
   "execution_count": 222,
   "metadata": {},
   "outputs": [
    {
     "data": {
      "text/plain": [
       "<matplotlib.axes._subplots.AxesSubplot at 0x20fe0421e10>"
      ]
     },
     "execution_count": 222,
     "metadata": {},
     "output_type": "execute_result"
    },
    {
     "data": {
      "image/png": "[encoded data removed]",
      "text/plain": [
       "<Figure size 432x288 with 1 Axes>"
      ]
     },
     "metadata": {},
     "output_type": "display_data"
    }
   ],
   "source": [
    "# Let us analyze gdpp variable using a box plot\n",
    "sns.boxplot(x='ClusterID',y='child_mort', data=dat6)"
   ]
  },
  {
   "cell_type": "code",
   "execution_count": null,
   "metadata": {},
   "outputs": [],
   "source": [
    "#Here we can see that child_mort for cluster 0 is higher than the cluster 1. "
   ]
  },
  {
   "cell_type": "code",
   "execution_count": 223,
   "metadata": {},
   "outputs": [
    {
     "data": {
      "text/html": [
       "<div>\n",
       "<style scoped>\n",
       "    .dataframe tbody tr th:only-of-type {\n",
       "        vertical-align: middle;\n",
       "    }\n",
       "\n",
       "    .dataframe tbody tr th {\n",
       "        vertical-align: top;\n",
       "    }\n",
       "\n",
       "    .dataframe thead th {\n",
       "        text-align: right;\n",
       "    }\n",
       "</style>\n",
       "<table border=\"1\" class=\"dataframe\">\n",
       "  <thead>\n",
       "    <tr style=\"text-align: right;\">\n",
       "      <th></th>\n",
       "      <th>country</th>\n",
       "      <th>child_mort</th>\n",
       "      <th>exports</th>\n",
       "      <th>health</th>\n",
       "      <th>imports</th>\n",
       "      <th>income</th>\n",
       "      <th>inflation</th>\n",
       "      <th>life_expec</th>\n",
       "      <th>total_fer</th>\n",
       "      <th>gdpp</th>\n",
       "      <th>ClusterID</th>\n",
       "    </tr>\n",
       "  </thead>\n",
       "  <tbody>\n",
       "    <tr>\n",
       "      <th>26</th>\n",
       "      <td>Burundi</td>\n",
       "      <td>93.6</td>\n",
       "      <td>20.6052</td>\n",
       "      <td>26.7960</td>\n",
       "      <td>90.552</td>\n",
       "      <td>764</td>\n",
       "      <td>12.30</td>\n",
       "      <td>57.7</td>\n",
       "      <td>6.26</td>\n",
       "      <td>231</td>\n",
       "      <td>0</td>\n",
       "    </tr>\n",
       "    <tr>\n",
       "      <th>37</th>\n",
       "      <td>Congo, Dem. Rep.</td>\n",
       "      <td>116.0</td>\n",
       "      <td>137.2740</td>\n",
       "      <td>26.4194</td>\n",
       "      <td>165.664</td>\n",
       "      <td>609</td>\n",
       "      <td>20.80</td>\n",
       "      <td>57.5</td>\n",
       "      <td>6.54</td>\n",
       "      <td>334</td>\n",
       "      <td>1</td>\n",
       "    </tr>\n",
       "    <tr>\n",
       "      <th>31</th>\n",
       "      <td>Central African Republic</td>\n",
       "      <td>149.0</td>\n",
       "      <td>52.6280</td>\n",
       "      <td>17.7508</td>\n",
       "      <td>118.190</td>\n",
       "      <td>888</td>\n",
       "      <td>2.01</td>\n",
       "      <td>47.5</td>\n",
       "      <td>5.21</td>\n",
       "      <td>446</td>\n",
       "      <td>1</td>\n",
       "    </tr>\n",
       "    <tr>\n",
       "      <th>50</th>\n",
       "      <td>Eritrea</td>\n",
       "      <td>55.2</td>\n",
       "      <td>23.0878</td>\n",
       "      <td>12.8212</td>\n",
       "      <td>112.306</td>\n",
       "      <td>1420</td>\n",
       "      <td>11.60</td>\n",
       "      <td>61.7</td>\n",
       "      <td>4.61</td>\n",
       "      <td>482</td>\n",
       "      <td>1</td>\n",
       "    </tr>\n",
       "    <tr>\n",
       "      <th>64</th>\n",
       "      <td>Guinea-Bissau</td>\n",
       "      <td>114.0</td>\n",
       "      <td>81.5030</td>\n",
       "      <td>46.4950</td>\n",
       "      <td>192.544</td>\n",
       "      <td>1390</td>\n",
       "      <td>2.97</td>\n",
       "      <td>55.6</td>\n",
       "      <td>5.05</td>\n",
       "      <td>547</td>\n",
       "      <td>1</td>\n",
       "    </tr>\n",
       "  </tbody>\n",
       "</table>\n",
       "</div>"
      ],
      "text/plain": [
       "                     country  child_mort   exports   health  imports  income  \\\n",
       "26                   Burundi        93.6   20.6052  26.7960   90.552     764   \n",
       "37          Congo, Dem. Rep.       116.0  137.2740  26.4194  165.664     609   \n",
       "31  Central African Republic       149.0   52.6280  17.7508  118.190     888   \n",
       "50                   Eritrea        55.2   23.0878  12.8212  112.306    1420   \n",
       "64             Guinea-Bissau       114.0   81.5030  46.4950  192.544    1390   \n",
       "\n",
       "    inflation  life_expec  total_fer  gdpp  ClusterID  \n",
       "26      12.30        57.7       6.26   231          0  \n",
       "37      20.80        57.5       6.54   334          1  \n",
       "31       2.01        47.5       5.21   446          1  \n",
       "50      11.60        61.7       4.61   482          1  \n",
       "64       2.97        55.6       5.05   547          1  "
      ]
     },
     "execution_count": 223,
     "metadata": {},
     "output_type": "execute_result"
    }
   ],
   "source": [
    "#Let's use the concept of binning\n",
    "fin=dat6[dat6['income']<=18506.67]\n",
    "fin=fin[fin['gdpp']<= 14684.34]\n",
    "fin=fin[fin['child_mort']> 39.27]\n",
    "\n",
    "#We are listing minimum 5 countries which are in direst need of aid using k-Means clustering analysis \n",
    "fin.nsmallest(5,'gdpp')\n",
    "#fin"
   ]
  },
  {
   "cell_type": "code",
   "execution_count": 229,
   "metadata": {},
   "outputs": [],
   "source": [
    "# Now, Let us start with Hierarchical Clustering"
   ]
  },
  {
   "cell_type": "code",
   "execution_count": 235,
   "metadata": {},
   "outputs": [],
   "source": [
    "dat4_1 = pcs_df2"
   ]
  },
  {
   "cell_type": "code",
   "execution_count": 236,
   "metadata": {},
   "outputs": [
    {
     "name": "stdout",
     "output_type": "stream",
     "text": [
      "        PC1       PC2       PC3\n",
      "0 -0.457626 -0.673301  0.961867\n",
      "1  0.649849 -1.024374 -0.250103\n",
      "2  3.180362 -0.250785 -0.116877\n",
      "3  3.815682  0.256083 -0.270495\n",
      "4 -0.467515 -0.493492  0.603288\n"
     ]
    },
    {
     "data": {
      "image/png": "[encoded data removed]",
      "text/plain": [
       "<Figure size 432x288 with 1 Axes>"
      ]
     },
     "metadata": {},
     "output_type": "display_data"
    }
   ],
   "source": [
    "print(dat4_1.head())\n",
    "\n",
    "#Single linkage\n",
    "mergings = linkage(dat4_1, method='single', metric='euclidean')\n",
    "dendrogram(mergings)\n",
    "plt.show()"
   ]
  },
  {
   "cell_type": "code",
   "execution_count": 237,
   "metadata": {},
   "outputs": [
    {
     "data": {
      "image/png": "[encoded data removed]",
      "text/plain": [
       "<Figure size 432x288 with 1 Axes>"
      ]
     },
     "metadata": {},
     "output_type": "display_data"
    }
   ],
   "source": [
    "# Complete Linkage \n",
    "mergings = linkage(dat4_1, method='complete', metric='euclidean')\n",
    "dendrogram(mergings)\n",
    "plt.show()"
   ]
  },
  {
   "cell_type": "code",
   "execution_count": 239,
   "metadata": {},
   "outputs": [
    {
     "data": {
      "text/plain": [
       "(85, 1)"
      ]
     },
     "execution_count": 239,
     "metadata": {},
     "output_type": "execute_result"
    }
   ],
   "source": [
    "# Here you can see 3 different colors \n",
    "# so, let us choose number of clusters =3 \n",
    "cut_tree(mergings, n_clusters=3)\n",
    "cut_tree(mergings, n_clusters=3).shape # It is one dimesional array a tyoe of (85,1)"
   ]
  },
  {
   "cell_type": "code",
   "execution_count": 241,
   "metadata": {},
   "outputs": [],
   "source": [
    "# let us reshape it \n",
    "cluster_ID= cut_tree(mergings, n_clusters=3).reshape(-1, )"
   ]
  },
  {
   "cell_type": "code",
   "execution_count": 242,
   "metadata": {},
   "outputs": [
    {
     "data": {
      "text/html": [
       "<div>\n",
       "<style scoped>\n",
       "    .dataframe tbody tr th:only-of-type {\n",
       "        vertical-align: middle;\n",
       "    }\n",
       "\n",
       "    .dataframe tbody tr th {\n",
       "        vertical-align: top;\n",
       "    }\n",
       "\n",
       "    .dataframe thead th {\n",
       "        text-align: right;\n",
       "    }\n",
       "</style>\n",
       "<table border=\"1\" class=\"dataframe\">\n",
       "  <thead>\n",
       "    <tr style=\"text-align: right;\">\n",
       "      <th></th>\n",
       "      <th>country</th>\n",
       "      <th>child_mort</th>\n",
       "      <th>exports</th>\n",
       "      <th>health</th>\n",
       "      <th>imports</th>\n",
       "      <th>income</th>\n",
       "      <th>inflation</th>\n",
       "      <th>life_expec</th>\n",
       "      <th>total_fer</th>\n",
       "      <th>gdpp</th>\n",
       "      <th>ClusterID</th>\n",
       "    </tr>\n",
       "  </thead>\n",
       "  <tbody>\n",
       "    <tr>\n",
       "      <th>0</th>\n",
       "      <td>Afghanistan</td>\n",
       "      <td>90.2</td>\n",
       "      <td>55.30</td>\n",
       "      <td>41.9174</td>\n",
       "      <td>248.297</td>\n",
       "      <td>1610</td>\n",
       "      <td>9.44</td>\n",
       "      <td>56.2</td>\n",
       "      <td>5.82</td>\n",
       "      <td>553</td>\n",
       "      <td>0</td>\n",
       "    </tr>\n",
       "    <tr>\n",
       "      <th>1</th>\n",
       "      <td>Albania</td>\n",
       "      <td>16.6</td>\n",
       "      <td>1145.20</td>\n",
       "      <td>267.8950</td>\n",
       "      <td>1987.740</td>\n",
       "      <td>9930</td>\n",
       "      <td>4.49</td>\n",
       "      <td>76.3</td>\n",
       "      <td>1.65</td>\n",
       "      <td>4090</td>\n",
       "      <td>1</td>\n",
       "    </tr>\n",
       "    <tr>\n",
       "      <th>2</th>\n",
       "      <td>Algeria</td>\n",
       "      <td>27.3</td>\n",
       "      <td>1712.64</td>\n",
       "      <td>185.9820</td>\n",
       "      <td>1400.440</td>\n",
       "      <td>12900</td>\n",
       "      <td>16.10</td>\n",
       "      <td>76.5</td>\n",
       "      <td>2.89</td>\n",
       "      <td>4460</td>\n",
       "      <td>2</td>\n",
       "    </tr>\n",
       "    <tr>\n",
       "      <th>3</th>\n",
       "      <td>Angola</td>\n",
       "      <td>119.0</td>\n",
       "      <td>2199.19</td>\n",
       "      <td>100.6050</td>\n",
       "      <td>1514.370</td>\n",
       "      <td>5900</td>\n",
       "      <td>22.40</td>\n",
       "      <td>60.1</td>\n",
       "      <td>6.16</td>\n",
       "      <td>3530</td>\n",
       "      <td>2</td>\n",
       "    </tr>\n",
       "    <tr>\n",
       "      <th>4</th>\n",
       "      <td>Antigua and Barbuda</td>\n",
       "      <td>10.3</td>\n",
       "      <td>5551.00</td>\n",
       "      <td>735.6600</td>\n",
       "      <td>7185.800</td>\n",
       "      <td>19100</td>\n",
       "      <td>1.44</td>\n",
       "      <td>76.8</td>\n",
       "      <td>2.13</td>\n",
       "      <td>12200</td>\n",
       "      <td>0</td>\n",
       "    </tr>\n",
       "  </tbody>\n",
       "</table>\n",
       "</div>"
      ],
      "text/plain": [
       "               country  child_mort  exports    health   imports  income  \\\n",
       "0          Afghanistan        90.2    55.30   41.9174   248.297    1610   \n",
       "1              Albania        16.6  1145.20  267.8950  1987.740    9930   \n",
       "2              Algeria        27.3  1712.64  185.9820  1400.440   12900   \n",
       "3               Angola       119.0  2199.19  100.6050  1514.370    5900   \n",
       "4  Antigua and Barbuda        10.3  5551.00  735.6600  7185.800   19100   \n",
       "\n",
       "   inflation  life_expec  total_fer   gdpp  ClusterID  \n",
       "0       9.44        56.2       5.82    553          0  \n",
       "1       4.49        76.3       1.65   4090          1  \n",
       "2      16.10        76.5       2.89   4460          2  \n",
       "3      22.40        60.1       6.16   3530          2  \n",
       "4       1.44        76.8       2.13  12200          0  "
      ]
     },
     "execution_count": 242,
     "metadata": {},
     "output_type": "execute_result"
    }
   ],
   "source": [
    "#assign cluster labels \n",
    "dat6['ClusterID']=cluster_ID\n",
    "dat6.head()"
   ]
  },
  {
   "cell_type": "code",
   "execution_count": 243,
   "metadata": {},
   "outputs": [
    {
     "data": {
      "text/plain": [
       "<matplotlib.axes._subplots.AxesSubplot at 0x20fdeb5d780>"
      ]
     },
     "execution_count": 243,
     "metadata": {},
     "output_type": "execute_result"
    },
    {
     "data": {
      "image/png": "[encoded data removed]",
      "text/plain": [
       "<Figure size 432x288 with 1 Axes>"
      ]
     },
     "metadata": {},
     "output_type": "display_data"
    }
   ],
   "source": [
    "# Let us analyze income variable using a box plot\n",
    "sns.boxplot(x='ClusterID',y='income', data=dat6)"
   ]
  },
  {
   "cell_type": "code",
   "execution_count": 244,
   "metadata": {},
   "outputs": [],
   "source": [
    "# Here we can see 3 Clusters and the overall range of income in cluster 0 are more than the others but the median \n",
    "# of cluster 1 are higher than the others.   "
   ]
  },
  {
   "cell_type": "code",
   "execution_count": 245,
   "metadata": {},
   "outputs": [
    {
     "data": {
      "text/plain": [
       "<matplotlib.axes._subplots.AxesSubplot at 0x20fdeb9ec50>"
      ]
     },
     "execution_count": 245,
     "metadata": {},
     "output_type": "execute_result"
    },
    {
     "data": {
      "image/png": "[encoded data removed]",
      "text/plain": [
       "<Figure size 432x288 with 1 Axes>"
      ]
     },
     "metadata": {},
     "output_type": "display_data"
    }
   ],
   "source": [
    "# Let us analyze gdpp variable using a box plot\n",
    "sns.boxplot(x='ClusterID',y='gdpp', data=dat6)"
   ]
  },
  {
   "cell_type": "code",
   "execution_count": 246,
   "metadata": {},
   "outputs": [],
   "source": [
    "# Here as we can see the overall range of gdpp for cluster 0 countries are higher than the other clusters \n",
    "# but the median of cluster 1 are higher than the others"
   ]
  },
  {
   "cell_type": "code",
   "execution_count": 247,
   "metadata": {},
   "outputs": [
    {
     "data": {
      "text/plain": [
       "<matplotlib.axes._subplots.AxesSubplot at 0x20fdcaa6390>"
      ]
     },
     "execution_count": 247,
     "metadata": {},
     "output_type": "execute_result"
    },
    {
     "data": {
      "image/png": "[encoded data removed]",
      "text/plain": [
       "<Figure size 432x288 with 1 Axes>"
      ]
     },
     "metadata": {},
     "output_type": "display_data"
    }
   ],
   "source": [
    "# Let us analyze gdpp variable using a box plot\n",
    "sns.boxplot(x='ClusterID',y='child_mort', data=dat6)"
   ]
  },
  {
   "cell_type": "code",
   "execution_count": 248,
   "metadata": {},
   "outputs": [],
   "source": [
    "# Here, the box plot says the overall range for the child_mort are higher in countries belongs to cluster 2,\n",
    "# followed by cluster 0 and cluster 1. Along, median for child_mort for cluster 2 is also higher as compared to others. "
   ]
  },
  {
   "cell_type": "code",
   "execution_count": 249,
   "metadata": {},
   "outputs": [],
   "source": [
    "# Now again, let us analyse the more "
   ]
  },
  {
   "cell_type": "code",
   "execution_count": 250,
   "metadata": {},
   "outputs": [
    {
     "data": {
      "text/plain": [
       "0    44\n",
       "1    28\n",
       "2    13\n",
       "Name: ClusterID, dtype: int64"
      ]
     },
     "execution_count": 250,
     "metadata": {},
     "output_type": "execute_result"
    }
   ],
   "source": [
    "# sort the countries based on ClusterID\n",
    "dat6_cluster_sort = dat6.sort_values('ClusterID')\n",
    "dat6_cluster_sort.head()\n",
    "dat6_cluster_sort['ClusterID'].value_counts()\n",
    "# 44 countries are present in the cluster 0\n",
    "# 28 countries are present in the cluster 1 \n",
    "# 13 countries are present in the cluster 2 "
   ]
  },
  {
   "cell_type": "code",
   "execution_count": 251,
   "metadata": {},
   "outputs": [],
   "source": [
    "# Let us grouby based on the clusteID\n",
    "#clu_country = \tpd.DataFrame(dat6.groupby([\"ClusterID\"]).country.mean())\n",
    "clu_child_mort = \tpd.DataFrame(dat6.groupby([\"ClusterID\"]).child_mort.mean())\n",
    "clu_exports = \tpd.DataFrame(dat6.groupby([\"ClusterID\"]).exports.mean())\n",
    "clu_health = \tpd.DataFrame(dat6.groupby([\"ClusterID\"]).health.mean())\n",
    "clu_imports = \tpd.DataFrame(dat6.groupby([\"ClusterID\"]).imports.mean())\n",
    "clu_income = \tpd.DataFrame(dat6.groupby([\"ClusterID\"]).income.mean())\n",
    "clu_inflation = \tpd.DataFrame(dat6.groupby([\"ClusterID\"]).inflation.mean())\n",
    "clu_life_expec = \tpd.DataFrame(dat6.groupby([\"ClusterID\"]).life_expec.mean())\n",
    "clu_total_fer = \tpd.DataFrame(dat6.groupby([\"ClusterID\"]).total_fer.mean())\n",
    "clu_gdpp = \tpd.DataFrame(dat6.groupby([\"ClusterID\"]).gdpp.mean())"
   ]
  },
  {
   "cell_type": "code",
   "execution_count": 252,
   "metadata": {},
   "outputs": [
    {
     "data": {
      "text/html": [
       "<div>\n",
       "<style scoped>\n",
       "    .dataframe tbody tr th:only-of-type {\n",
       "        vertical-align: middle;\n",
       "    }\n",
       "\n",
       "    .dataframe tbody tr th {\n",
       "        vertical-align: top;\n",
       "    }\n",
       "\n",
       "    .dataframe thead th {\n",
       "        text-align: right;\n",
       "    }\n",
       "</style>\n",
       "<table border=\"1\" class=\"dataframe\">\n",
       "  <thead>\n",
       "    <tr style=\"text-align: right;\">\n",
       "      <th></th>\n",
       "      <th>0</th>\n",
       "      <th>child_mort</th>\n",
       "      <th>exports</th>\n",
       "      <th>health</th>\n",
       "      <th>imports</th>\n",
       "      <th>income</th>\n",
       "      <th>inflation</th>\n",
       "      <th>life_expec</th>\n",
       "      <th>total_fer</th>\n",
       "      <th>gdpp</th>\n",
       "    </tr>\n",
       "  </thead>\n",
       "  <tbody>\n",
       "    <tr>\n",
       "      <th>0</th>\n",
       "      <td>0</td>\n",
       "      <td>39.268182</td>\n",
       "      <td>7159.969995</td>\n",
       "      <td>1190.740473</td>\n",
       "      <td>6294.580659</td>\n",
       "      <td>18239.500000</td>\n",
       "      <td>5.838614</td>\n",
       "      <td>70.852273</td>\n",
       "      <td>3.044091</td>\n",
       "      <td>14493.340909</td>\n",
       "    </tr>\n",
       "    <tr>\n",
       "      <th>1</th>\n",
       "      <td>1</td>\n",
       "      <td>36.735714</td>\n",
       "      <td>4931.564429</td>\n",
       "      <td>1114.547393</td>\n",
       "      <td>4705.830500</td>\n",
       "      <td>16824.607143</td>\n",
       "      <td>8.899429</td>\n",
       "      <td>71.260714</td>\n",
       "      <td>2.479286</td>\n",
       "      <td>12393.714286</td>\n",
       "    </tr>\n",
       "    <tr>\n",
       "      <th>2</th>\n",
       "      <td>2</td>\n",
       "      <td>53.461538</td>\n",
       "      <td>2897.738477</td>\n",
       "      <td>423.999638</td>\n",
       "      <td>3038.940308</td>\n",
       "      <td>9223.384615</td>\n",
       "      <td>6.224615</td>\n",
       "      <td>66.930769</td>\n",
       "      <td>3.707692</td>\n",
       "      <td>6764.923077</td>\n",
       "    </tr>\n",
       "  </tbody>\n",
       "</table>\n",
       "</div>"
      ],
      "text/plain": [
       "   0  child_mort      exports       health      imports        income  \\\n",
       "0  0   39.268182  7159.969995  1190.740473  6294.580659  18239.500000   \n",
       "1  1   36.735714  4931.564429  1114.547393  4705.830500  16824.607143   \n",
       "2  2   53.461538  2897.738477   423.999638  3038.940308   9223.384615   \n",
       "\n",
       "   inflation  life_expec  total_fer          gdpp  \n",
       "0   5.838614   70.852273   3.044091  14493.340909  \n",
       "1   8.899429   71.260714   2.479286  12393.714286  \n",
       "2   6.224615   66.930769   3.707692   6764.923077  "
      ]
     },
     "execution_count": 252,
     "metadata": {},
     "output_type": "execute_result"
    }
   ],
   "source": [
    "df2 = pd.concat([pd.Series([0,1,2]),clu_child_mort,clu_exports,clu_health,clu_imports,clu_income,clu_inflation,clu_life_expec,clu_total_fer,clu_gdpp], axis=1)\n",
    "df2"
   ]
  },
  {
   "cell_type": "code",
   "execution_count": 253,
   "metadata": {},
   "outputs": [
    {
     "data": {
      "text/html": [
       "<div>\n",
       "<style scoped>\n",
       "    .dataframe tbody tr th:only-of-type {\n",
       "        vertical-align: middle;\n",
       "    }\n",
       "\n",
       "    .dataframe tbody tr th {\n",
       "        vertical-align: top;\n",
       "    }\n",
       "\n",
       "    .dataframe thead th {\n",
       "        text-align: right;\n",
       "    }\n",
       "</style>\n",
       "<table border=\"1\" class=\"dataframe\">\n",
       "  <thead>\n",
       "    <tr style=\"text-align: right;\">\n",
       "      <th></th>\n",
       "      <th>ClusterID</th>\n",
       "      <th>child_mort</th>\n",
       "      <th>exports</th>\n",
       "      <th>health</th>\n",
       "      <th>imports</th>\n",
       "      <th>income</th>\n",
       "      <th>inflation</th>\n",
       "      <th>life_expec</th>\n",
       "      <th>total_fer</th>\n",
       "      <th>gdpp</th>\n",
       "    </tr>\n",
       "  </thead>\n",
       "  <tbody>\n",
       "    <tr>\n",
       "      <th>0</th>\n",
       "      <td>0</td>\n",
       "      <td>39.268182</td>\n",
       "      <td>7159.969995</td>\n",
       "      <td>1190.740473</td>\n",
       "      <td>6294.580659</td>\n",
       "      <td>18239.500000</td>\n",
       "      <td>5.838614</td>\n",
       "      <td>70.852273</td>\n",
       "      <td>3.044091</td>\n",
       "      <td>14493.340909</td>\n",
       "    </tr>\n",
       "    <tr>\n",
       "      <th>1</th>\n",
       "      <td>1</td>\n",
       "      <td>36.735714</td>\n",
       "      <td>4931.564429</td>\n",
       "      <td>1114.547393</td>\n",
       "      <td>4705.830500</td>\n",
       "      <td>16824.607143</td>\n",
       "      <td>8.899429</td>\n",
       "      <td>71.260714</td>\n",
       "      <td>2.479286</td>\n",
       "      <td>12393.714286</td>\n",
       "    </tr>\n",
       "    <tr>\n",
       "      <th>2</th>\n",
       "      <td>2</td>\n",
       "      <td>53.461538</td>\n",
       "      <td>2897.738477</td>\n",
       "      <td>423.999638</td>\n",
       "      <td>3038.940308</td>\n",
       "      <td>9223.384615</td>\n",
       "      <td>6.224615</td>\n",
       "      <td>66.930769</td>\n",
       "      <td>3.707692</td>\n",
       "      <td>6764.923077</td>\n",
       "    </tr>\n",
       "  </tbody>\n",
       "</table>\n",
       "</div>"
      ],
      "text/plain": [
       "   ClusterID  child_mort      exports       health      imports        income  \\\n",
       "0          0   39.268182  7159.969995  1190.740473  6294.580659  18239.500000   \n",
       "1          1   36.735714  4931.564429  1114.547393  4705.830500  16824.607143   \n",
       "2          2   53.461538  2897.738477   423.999638  3038.940308   9223.384615   \n",
       "\n",
       "   inflation  life_expec  total_fer          gdpp  \n",
       "0   5.838614   70.852273   3.044091  14493.340909  \n",
       "1   8.899429   71.260714   2.479286  12393.714286  \n",
       "2   6.224615   66.930769   3.707692   6764.923077  "
      ]
     },
     "execution_count": 253,
     "metadata": {},
     "output_type": "execute_result"
    }
   ],
   "source": [
    "df2.columns = [\"ClusterID\",\"child_mort\",\"exports\",\"health\",\"imports\",\"income\",\"inflation\",\"life_expec\",\"total_fer\",\"gdpp\"]\n",
    "df2"
   ]
  },
  {
   "cell_type": "code",
   "execution_count": 256,
   "metadata": {},
   "outputs": [
    {
     "data": {
      "text/html": [
       "<div>\n",
       "<style scoped>\n",
       "    .dataframe tbody tr th:only-of-type {\n",
       "        vertical-align: middle;\n",
       "    }\n",
       "\n",
       "    .dataframe tbody tr th {\n",
       "        vertical-align: top;\n",
       "    }\n",
       "\n",
       "    .dataframe thead th {\n",
       "        text-align: right;\n",
       "    }\n",
       "</style>\n",
       "<table border=\"1\" class=\"dataframe\">\n",
       "  <thead>\n",
       "    <tr style=\"text-align: right;\">\n",
       "      <th></th>\n",
       "      <th>country</th>\n",
       "      <th>child_mort</th>\n",
       "      <th>exports</th>\n",
       "      <th>health</th>\n",
       "      <th>imports</th>\n",
       "      <th>income</th>\n",
       "      <th>inflation</th>\n",
       "      <th>life_expec</th>\n",
       "      <th>total_fer</th>\n",
       "      <th>gdpp</th>\n",
       "      <th>ClusterID</th>\n",
       "    </tr>\n",
       "  </thead>\n",
       "  <tbody>\n",
       "    <tr>\n",
       "      <th>26</th>\n",
       "      <td>Burundi</td>\n",
       "      <td>93.6</td>\n",
       "      <td>20.6052</td>\n",
       "      <td>26.7960</td>\n",
       "      <td>90.552</td>\n",
       "      <td>764</td>\n",
       "      <td>12.30</td>\n",
       "      <td>57.7</td>\n",
       "      <td>6.26</td>\n",
       "      <td>231</td>\n",
       "      <td>2</td>\n",
       "    </tr>\n",
       "    <tr>\n",
       "      <th>37</th>\n",
       "      <td>Congo, Dem. Rep.</td>\n",
       "      <td>116.0</td>\n",
       "      <td>137.2740</td>\n",
       "      <td>26.4194</td>\n",
       "      <td>165.664</td>\n",
       "      <td>609</td>\n",
       "      <td>20.80</td>\n",
       "      <td>57.5</td>\n",
       "      <td>6.54</td>\n",
       "      <td>334</td>\n",
       "      <td>1</td>\n",
       "    </tr>\n",
       "    <tr>\n",
       "      <th>31</th>\n",
       "      <td>Central African Republic</td>\n",
       "      <td>149.0</td>\n",
       "      <td>52.6280</td>\n",
       "      <td>17.7508</td>\n",
       "      <td>118.190</td>\n",
       "      <td>888</td>\n",
       "      <td>2.01</td>\n",
       "      <td>47.5</td>\n",
       "      <td>5.21</td>\n",
       "      <td>446</td>\n",
       "      <td>0</td>\n",
       "    </tr>\n",
       "    <tr>\n",
       "      <th>50</th>\n",
       "      <td>Eritrea</td>\n",
       "      <td>55.2</td>\n",
       "      <td>23.0878</td>\n",
       "      <td>12.8212</td>\n",
       "      <td>112.306</td>\n",
       "      <td>1420</td>\n",
       "      <td>11.60</td>\n",
       "      <td>61.7</td>\n",
       "      <td>4.61</td>\n",
       "      <td>482</td>\n",
       "      <td>0</td>\n",
       "    </tr>\n",
       "    <tr>\n",
       "      <th>64</th>\n",
       "      <td>Guinea-Bissau</td>\n",
       "      <td>114.0</td>\n",
       "      <td>81.5030</td>\n",
       "      <td>46.4950</td>\n",
       "      <td>192.544</td>\n",
       "      <td>1390</td>\n",
       "      <td>2.97</td>\n",
       "      <td>55.6</td>\n",
       "      <td>5.05</td>\n",
       "      <td>547</td>\n",
       "      <td>0</td>\n",
       "    </tr>\n",
       "  </tbody>\n",
       "</table>\n",
       "</div>"
      ],
      "text/plain": [
       "                     country  child_mort   exports   health  imports  income  \\\n",
       "26                   Burundi        93.6   20.6052  26.7960   90.552     764   \n",
       "37          Congo, Dem. Rep.       116.0  137.2740  26.4194  165.664     609   \n",
       "31  Central African Republic       149.0   52.6280  17.7508  118.190     888   \n",
       "50                   Eritrea        55.2   23.0878  12.8212  112.306    1420   \n",
       "64             Guinea-Bissau       114.0   81.5030  46.4950  192.544    1390   \n",
       "\n",
       "    inflation  life_expec  total_fer  gdpp  ClusterID  \n",
       "26      12.30        57.7       6.26   231          2  \n",
       "37      20.80        57.5       6.54   334          1  \n",
       "31       2.01        47.5       5.21   446          0  \n",
       "50      11.60        61.7       4.61   482          0  \n",
       "64       2.97        55.6       5.05   547          0  "
      ]
     },
     "execution_count": 256,
     "metadata": {},
     "output_type": "execute_result"
    }
   ],
   "source": [
    "#Let's use the concept of binning\n",
    "fin2=dat6[dat6['income']<=16824.60]\n",
    "fin2=fin2[fin2['gdpp']<= 12393.71]\n",
    "fin2=fin2[fin2['child_mort']> 53.46]\n",
    "\n",
    "#We are listing minimum 5 countries which are in direst need of aid using Hierarchical clustering analysis \n",
    "fin2.nsmallest(5,'gdpp')"
   ]
  },
  {
   "cell_type": "code",
   "execution_count": null,
   "metadata": {},
   "outputs": [],
   "source": []
  }
 ],
 "metadata": {
  "kernelspec": {
   "display_name": "Python 3",
   "language": "python",
   "name": "python3"
  },
  "language_info": {
   "codemirror_mode": {
    "name": "ipython",
    "version": 3
   },
   "file_extension": ".py",
   "mimetype": "text/x-python",
   "name": "python",
   "nbconvert_exporter": "python",
   "pygments_lexer": "ipython3",
   "version": "3.6.5"
  }
 },
 "nbformat": 4,
 "nbformat_minor": 2
}
