{
 "cells": [
  {
   "cell_type": "code",
   "execution_count": null,
   "metadata": {},
   "outputs": [],
   "source": [
    "from tkinter import *\n",
    "import ipywidgets as widgets\n",
    "m=Tk()\n",
    "m.geometry('500x500')\n",
    "m.configure(bg='light sky blue')\n",
    "m.title(\"COUNTRIES DATA\")\n",
    "Label(m,text='COUNTRY DETAILS').grid(row=0,column=5)\n",
    "Label(m,text='COUNTRY').grid(row=2)\n",
    "Label(m,text='CHILD MORTALITY').grid(row=3)\n",
    "Label(m,text='BALANCE FREQUENCY').grid(row=4)\n",
    "Label(m,text='EXPORTS').grid(row=5)\n",
    "Label(m,text='HEALTH').grid(row=6)\n",
    "Label(m,text='IMPORTS').grid(row=7)\n",
    "Label(m,text='INCOME').grid(row=8)\n",
    "Label(m,text='INFLATION').grid(row=9)\n",
    "Label(m,text='LIFE EXPECTATION').grid(row=10)\n",
    "Label(m,text='TOTAL FER').grid(row=11)\n",
    "Label(m,text='GDPP').grid(row=12)\n",
    "\n",
    "e1=Entry(m)\n",
    "e2=Entry(m)\n",
    "e3=Entry(m)\n",
    "e4=Entry(m)\n",
    "e5=Entry(m)\n",
    "e6=Entry(m)\n",
    "e7=Entry(m)\n",
    "e8=Entry(m)\n",
    "e9=Entry(m)\n",
    "e10=Entry(m)\n",
    "e11=Entry(m)\n",
    "e12=Entry(m)\n",
    "e1.grid(row=2,column=1)\n",
    "e2.grid(row=3,column=1)\n",
    "e3.grid(row=4,column=1)\n",
    "e4.grid(row=5,column=1)\n",
    "\n",
    "\n",
    "e5.grid(row=6,column=1)\n",
    "e6.grid(row=7,column=1)\n",
    "e7.grid(row=8,column=1)\n",
    "e8.grid(row=9,column=1)\n",
    "\n",
    "\n",
    "e9.grid(row=10,column=1)\n",
    "e10.grid(row=11,column=1)\n",
    "e11.grid(row=12,column=1)\n",
    "e12.grid(row=13,column=1)\n",
    "\n",
    "\n",
    "\n",
    "Button(m,text='submit',width=20,bg='blue',fg='WHITE').grid(row=20,column=1)\n",
    "\n",
    "Button(m,text='cancel',command=m.destroy,width=20,bg='blue',fg='white').grid(row=20,column=4)\n",
    "\n",
    "m.mainloop()\n"
   ]
  },
  {
   "cell_type": "code",
   "execution_count": null,
   "metadata": {},
   "outputs": [],
   "source": []
  }
 ],
 "metadata": {
  "kernelspec": {
   "display_name": "Python 3",
   "language": "python",
   "name": "python3"
  },
  "language_info": {
   "codemirror_mode": {
    "name": "ipython",
    "version": 3
   },
   "file_extension": ".py",
   "mimetype": "text/x-python",
   "name": "python",
   "nbconvert_exporter": "python",
   "pygments_lexer": "ipython3",
   "version": "3.8.5"
  }
 },
 "nbformat": 4,
 "nbformat_minor": 4
}
